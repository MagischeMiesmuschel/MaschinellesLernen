{
 "cells": [
  {
   "cell_type": "markdown",
   "metadata": {},
   "source": [
    "# Special holiday assignment:<br/>*Explorative Cooking*\n",
    "\n",
    "## Organization\n",
    "\n",
    "During the winter holidays, we want you to explore a fairly large dataset and try various approaches to classify and cluster the data. There is no *one way to go* and you will have to decide which approaches to use on your own. In the exercises on January 15th & 16th (**January 8th & 9th will be no exercise** as I am gone for a conference), we will have time to discuss your results and you can test your results against your fellow students.\n",
    "\n",
    "Your solutions do not need to be perfect, as there is no *one true answer*. Please take notes on everything you attempt and be ready to answer these questions:\n",
    "1. What did you do?\n",
    "1. Why did you do that?\n",
    "1. Did it work?\n",
    "1. If it did (not) work, why (not)? (assumptions suffice)\n",
    "\n",
    "In the next exercise, we will test your code on a separate (smaller) test set, that is not provided in the moodle.<br/>\n",
    "Please remember to bring your code to the exercise or mail it to me in advance, so we can decide whose approaches perform best on the test set. 😉"
   ]
  },
  {
   "cell_type": "markdown",
   "metadata": {},
   "source": [
    "## The Data\n",
    "\n",
    "For this special assignment, you are provided with a large database of recipes that you can download from the moodle.\n",
    "\n",
    "**The recipes consist of:**\n",
    "1. Recipe names (column `Titel`)\n",
    "1. 2610 possible ingredients (columns `Aal`, ..., `Krabbenfleisch`, not alphabetically ordered)\n",
    "1. A classification of whether any form of fish or seafood is included (column `Mit Fisch`)\n",
    "1. A classification of whether any form of meat is included (column `Mit Fleisch`)\n",
    "\n",
    "The data thus has 2613 columns and 28000 rows. The title is always a string, every other entry is `True` (e.g. ingredient is included) and `False` otherwise.\n",
    "\n",
    "Beware: The data may contain noise! Recipes can in very few cases contain unintuitive ingredients, but that shouldn't hinder your work.\n",
    "\n",
    "Additionally you are given a list of ingredient descriptions.\n",
    "\n",
    "**The ingredient descriptions consist of:**\n",
    "1. Ingredient name (column `name`)\n",
    "1. Some rough categories (column `categories`, not nearly complete)\n",
    "1. A classification as `Veggie` (not seafood or meat), `Fisch` (seafoods) and `Fleisch` (meat) (column `class`)\n",
    "\n",
    "To ease your work, animal products such as egg and milk (that did not require an animal to die) are classified as `Veggie`. These are hence ingredients vegetarians but not vegans would eat. We did not split by vegan, as milk and eggs are used very differently (e.g. in cakes and puddings) than meats and organs and would make classification a lot harder. In addition, these ingredients are fairly easy to *veganize* (using almond/soy milk, chia seeds, ...) and differentiating between e.g. soy milk and milk would add a lot of non informative features."
   ]
  },
  {
   "cell_type": "markdown",
   "metadata": {},
   "source": [
    "## Code frame\n",
    "\n",
    "In the following cells, you can find the necessary code for importing the data and some functions, that may help you debug your code."
   ]
  },
  {
   "cell_type": "code",
   "execution_count": 1,
   "metadata": {},
   "outputs": [],
   "source": [
    "# Imports\n",
    "import numpy as np\n",
    "import pandas as pd"
   ]
  },
  {
   "cell_type": "code",
   "execution_count": 2,
   "metadata": {},
   "outputs": [],
   "source": [
    "# Special column names\n",
    "KEY_TITLE = 'Titel'\n",
    "KEY_MEAT = 'Mit Fleisch'\n",
    "KEY_FISH = 'Mit Fisch'"
   ]
  },
  {
   "cell_type": "code",
   "execution_count": 8,
   "metadata": {},
   "outputs": [],
   "source": [
    "# Read the ingredients table\n",
    "ingredients = pd.read_csv(\"ingredients.csv\")\n",
    "# Split ingredients by class\n",
    "veggies = ingredients.loc[ingredients['class'] == 'Veggie']\n",
    "meats = ingredients.loc[ingredients['class'] == 'Fleisch']\n",
    "fishes = ingredients.loc[ingredients['class'] == 'Fisch']"
   ]
  },
  {
   "cell_type": "code",
   "execution_count": 4,
   "metadata": {},
   "outputs": [],
   "source": [
    "# Read the recipes table\n",
    "recipes = pd.read_csv(\"recipes_train.gz\")\n",
    "recipes = recipes.rename(columns={recipes.columns[0]:KEY_TITLE})\n",
    "recipe_index = {name:i for i,name in enumerate(recipes[KEY_TITLE])}"
   ]
  },
  {
   "cell_type": "code",
   "execution_count": 5,
   "metadata": {},
   "outputs": [],
   "source": [
    "# Helping functions\n",
    "def recipe_by_name(name):\n",
    "    global recipes, recipe_index\n",
    "    return recipes.iloc[recipe_index[name]]\n",
    "def recipe_by_index(idx):\n",
    "    global recipes\n",
    "    return recipes.iloc[idx]\n",
    "def fields_of_recipe(recipe):\n",
    "    return {col: recipe[col] for col in recipe.keys() if recipe[col] != False}\n",
    "def ingredients_of_recipe(recipe):\n",
    "    return [col for col in ingredients['name'] if recipe[col] != False]\n",
    "def classification_of_recipe(recipe):\n",
    "    return {name:recipe[name] for name in [KEY_TITLE,KEY_MEAT,KEY_FISH]}\n",
    "def recipes_with_flag(recipes, col):\n",
    "    return recipes.loc[recipes[col] != False]\n",
    "def recipes_without_flag(recipes, col):\n",
    "    return recipes.loc[recipes[col] == False]"
   ]
  },
  {
   "cell_type": "code",
   "execution_count": 6,
   "metadata": {},
   "outputs": [
    {
     "name": "stdout",
     "output_type": "stream",
     "text": [
      "['Ananas', 'Backpulver', 'Gelatine', 'Maronenkonfitüre', 'Mehl', 'Sahne', 'Zucker', 'Eigelb']\n",
      "['Aprikose', 'Curryblätter', 'Schweinefleisch', 'Wasser', 'Zucker', 'Zwiebel', 'Fleisch']\n",
      "['Aubergine', 'Butter', 'Joghurt', 'Kartoffel', 'Knoblauch', 'Lammhackfleisch', 'Paprika', 'Rosmarin', 'Salbei', 'Salz', 'Tomatenmark', 'Zwiebel', 'Eier', 'Fleischbrühe']\n",
      "['Bauchspeck', 'Kartoffel', 'Majoran', 'Mehl', 'Pfeffer', 'Salz', 'Schweineschwanz', 'Zwiebel']\n",
      "['Kartoffel', 'Kümmel', 'Majoran', 'Mettwurst', 'Petersilie', 'Saure Sahne', 'Zwiebel', 'Eier']\n"
     ]
    }
   ],
   "source": [
    "# Example 1:\n",
    "# Retain only recipes with meat\n",
    "meat_recipes = recipes_with_flag(recipes,KEY_MEAT)\n",
    "# Remove all recipes with fish\n",
    "meat_no_fish_recipes = recipes_without_flag(meat_recipes,KEY_FISH)\n",
    "# Print ingredient list of first 5 recipes\n",
    "for i in meat_no_fish_recipes.index[:5]:\n",
    "    print(ingredients_of_recipe(meat_no_fish_recipes.loc[i]))"
   ]
  },
  {
   "cell_type": "code",
   "execution_count": 7,
   "metadata": {},
   "outputs": [
    {
     "name": "stdout",
     "output_type": "stream",
     "text": [
      "['Bohne', 'Gurke', 'Kirschtomate', 'Olivenöl', 'Pfeffer', 'Rotweinessig', 'Salz']\n",
      "{'Titel': 'Insalata mista', 'Mit Fleisch': False, 'Mit Fisch': False}\n"
     ]
    }
   ],
   "source": [
    "# Example 2:\n",
    "# Get recipe by name\n",
    "r = recipe_by_name('Insalata mista')\n",
    "# Print info about recipe\n",
    "print(ingredients_of_recipe(r))\n",
    "print(classification_of_recipe(r))"
   ]
  },
  {
   "cell_type": "markdown",
   "metadata": {},
   "source": [
    "## Task 1: Classification\n",
    "\n",
    "The first task is to identify recipes with fish and meat **without** looking at the fish and meat ingredients.<br/>\n",
    "This answers the question: \"*Would the authors of this collection add fish or meat to this recipe based on its other ingredients?*\""
   ]
  },
  {
   "cell_type": "markdown",
   "metadata": {},
   "source": [
    "**Example:**<br/>\n",
    "Assuming a recipe for potato salad with pork. The ingredients might be:\n",
    "$$\\{\\text{Speck},\\text{Kartoffel},\\text{Zwiebel},\\text{Essig},\\text{Salz},\\text{Pfeffer}\\}$$\n",
    "$$\\scriptsize\\left(\\{\\text{Bacon},\\text{Potato},\\text{Onion},\\text{Vinegar},\\text{Salt},\\text{Pepper}\\}\\right)$$\n",
    "The classification would obviously be\n",
    "$$(\\text{Mit Fisch}=False, \\text{Mit Fleisch}=True)$$\n",
    "$$\\scriptsize\\left(\\text{With fish}=False, \\text{With meat}=True\\right)$$\n",
    "as $\\text{Speck}$ $\\scriptsize(\\text{Bacon})$ is meat.<br/>\n",
    "Your model however will not be informed about any fish or meat ingredients during classification!<br/>\n",
    "Your model shall be able to answer the question\n",
    "$$\\text{Does a recipe with }\\{\\text{Kartoffel},\\text{Zwiebel},\\text{Essig},\\text{Salz},\\text{Pfeffer}\\}\\text{ also contain meat/fish?}$$\n",
    "$$\\scriptsize\\left(\\text{Does a recipe with }\\{\\text{Potato},\\text{Onion},\\text{Vinegar},\\text{Salt},\\text{Pepper}\\}\\text{ also contain meat/fish?}\\right)$$"
   ]
  },
  {
   "cell_type": "markdown",
   "metadata": {},
   "source": [
    "You can use the following code frame to prepare the data:"
   ]
  },
  {
   "cell_type": "code",
   "execution_count": 8,
   "metadata": {},
   "outputs": [],
   "source": [
    "import numpy as np\n",
    "def generate_split(X,y,p):\n",
    "    train_ids = np.random.permutation(len(X)) < p * len(X)\n",
    "    test_ids = ~train_ids\n",
    "    X_train, X_test = X[train_ids], X[test_ids]\n",
    "    y_train, y_test = y[train_ids], y[test_ids]\n",
    "    return X_train, y_train, X_test, y_test"
   ]
  },
  {
   "cell_type": "markdown",
   "metadata": {},
   "source": [
    "At first, try to get the best test score for the two class problem\n",
    "1. **no fish** (label = 0)\n",
    "1. **fish** (label = 1)"
   ]
  },
  {
   "cell_type": "code",
   "execution_count": 11,
   "metadata": {},
   "outputs": [
    {
     "name": "stderr",
     "output_type": "stream",
     "text": [
      "D:\\Anaconda3\\lib\\site-packages\\sklearn\\ensemble\\weight_boosting.py:29: DeprecationWarning: numpy.core.umath_tests is an internal NumPy module and should not be imported. It will be removed in a future NumPy release.\n",
      "  from numpy.core.umath_tests import inner1d\n"
     ]
    }
   ],
   "source": [
    "import numpy as np\n",
    "import matplotlib.pyplot as plt\n",
    "\n",
    "from sklearn import ensemble\n",
    "from sklearn.metrics import mean_squared_error"
   ]
  },
  {
   "cell_type": "code",
   "execution_count": 12,
   "metadata": {},
   "outputs": [],
   "source": [
    "# 2 Classes: No fish, fish\n",
    "features = np.concatenate([l['name'] for l in [veggies,meats]])\n",
    "X = recipes[features]\n",
    "y = recipes[KEY_FISH]*1\n",
    "X_train, y_train, X_test, y_test = generate_split(X,y,.8)"
   ]
  },
  {
   "cell_type": "code",
   "execution_count": 13,
   "metadata": {},
   "outputs": [
    {
     "name": "stdout",
     "output_type": "stream",
     "text": [
      "MSE: 0.0834\n"
     ]
    },
    {
     "data": {
      "text/plain": [
       "Text(0,0.5,'Deviance')"
      ]
     },
     "execution_count": 13,
     "metadata": {},
     "output_type": "execute_result"
    },
    {
     "data": {
      "image/png": "[encoded data removed]",
      "text/plain": [
       "<Figure size 864x432 with 1 Axes>"
      ]
     },
     "metadata": {
      "needs_background": "light"
     },
     "output_type": "display_data"
    }
   ],
   "source": [
    "# TODO\n",
    "# #############################################################################\n",
    "# Fit regression model\n",
    "params = {'n_estimators': 100, 'max_depth': 4, 'min_samples_split': 2,\n",
    "          'learning_rate': 0.01, 'loss': 'ls'}\n",
    "clf = ensemble.GradientBoostingRegressor(**params)\n",
    "\n",
    "clf.fit(X_train, y_train)\n",
    "mse = mean_squared_error(y_test, clf.predict(X_test))\n",
    "print(\"MSE: %.4f\" % mse)\n",
    "print(\"accuracy score: \", clf.score(X_test, y_test)\n",
    "\n",
    "# #############################################################################\n",
    "# Plot training deviance\n",
    "\n",
    "# compute test set deviance\n",
    "test_score = np.zeros((params['n_estimators'],), dtype=np.float64)\n",
    "\n",
    "for i, y_pred in enumerate(clf.staged_predict(X_test)):\n",
    "    test_score[i] = clf.loss_(y_test, y_pred)\n",
    "\n",
    "plt.figure(figsize=(12, 6))\n",
    "plt.subplot(1, 2, 1)\n",
    "plt.title('Deviance')\n",
    "plt.plot(np.arange(params['n_estimators']) + 1, clf.train_score_, 'b-',\n",
    "         label='Training Set Deviance')\n",
    "plt.plot(np.arange(params['n_estimators']) + 1, test_score, 'r-',\n",
    "         label='Test Set Deviance')\n",
    "plt.legend(loc='upper right')\n",
    "plt.xlabel('Boosting Iterations')\n",
    "plt.ylabel('Deviance')"
   ]
  },
  {
   "cell_type": "markdown",
   "metadata": {},
   "source": [
    "Now try to get the best test score for the two class problem\n",
    "1. **no meat** (label = 0)\n",
    "1. **meat** (label = 1)"
   ]
  },
  {
   "cell_type": "code",
   "execution_count": 14,
   "metadata": {},
   "outputs": [],
   "source": [
    "# 2 Classes: No meat, meat\n",
    "features = np.concatenate([l['name'] for l in [veggies,fishes]])\n",
    "X = recipes[features]\n",
    "y = recipes[KEY_MEAT]*1\n",
    "X_train, y_train, X_test, y_test = generate_split(X,y,.8)"
   ]
  },
  {
   "cell_type": "code",
   "execution_count": 17,
   "metadata": {},
   "outputs": [
    {
     "name": "stdout",
     "output_type": "stream",
     "text": [
      "MSE: 0.2158\n",
      "accuracy score:  0.11400640956338869\n"
     ]
    },
    {
     "data": {
      "text/plain": [
       "Text(0,0.5,'Deviance')"
      ]
     },
     "execution_count": 17,
     "metadata": {},
     "output_type": "execute_result"
    },
    {
     "data": {
      "image/png": "[encoded data removed]",
      "text/plain": [
       "<Figure size 864x432 with 1 Axes>"
      ]
     },
     "metadata": {
      "needs_background": "light"
     },
     "output_type": "display_data"
    }
   ],
   "source": [
    "# TODO\n",
    "\n",
    "# #############################################################################\n",
    "# Fit regression model\n",
    "params = {'n_estimators': 100, 'max_depth': 4,\n",
    "          'learning_rate': 0.01, 'loss': 'ls'}\n",
    "clf = ensemble.GradientBoostingRegressor(**params)\n",
    "\n",
    "clf.fit(X_train, y_train)\n",
    "mse = mean_squared_error(y_test, clf.predict(X_test))\n",
    "print(\"MSE: %.4f\" % mse)\n",
    "print(\"accuracy score: \", clf.score(X_test, y_test))\n",
    "\n",
    "# #############################################################################\n",
    "# Plot training deviance\n",
    "\n",
    "# compute test set deviance\n",
    "test_score = np.zeros((params['n_estimators'],), dtype=np.float64)\n",
    "\n",
    "for i, y_pred in enumerate(clf.staged_predict(X_test)):\n",
    "    test_score[i] = clf.loss_(y_test, y_pred)\n",
    "\n",
    "plt.figure(figsize=(12, 6))\n",
    "plt.subplot(1, 2, 1)\n",
    "plt.title('Deviance')\n",
    "plt.plot(np.arange(params['n_estimators']) + 1, clf.train_score_, 'b-',\n",
    "         label='Training Set Deviance')\n",
    "plt.plot(np.arange(params['n_estimators']) + 1, test_score, 'r-',\n",
    "         label='Test Set Deviance')\n",
    "plt.legend(loc='upper right')\n",
    "plt.xlabel('Boosting Iterations')\n",
    "plt.ylabel('Deviance')"
   ]
  },
  {
   "cell_type": "markdown",
   "metadata": {},
   "source": [
    "Now try to get the best test score for the 4 class problem\n",
    "1. **no meat + no fish** (label = 0)\n",
    "1. **meat + no fish** (label = 1)\n",
    "1. **no meat + fish** (label = 2)\n",
    "1. **meat + fish** (label = 3)"
   ]
  },
  {
   "cell_type": "code",
   "execution_count": null,
   "metadata": {},
   "outputs": [],
   "source": [
    "# 2 Classes: No fish, fish\n",
    "features = veggies['name']\n",
    "X = recipes[features]\n",
    "y = recipes[KEY_MEAT]*1 + recipes[KEY_FISH]*2\n",
    "X_train, y_train, X_test, y_test = generate_split(X,y,.8)"
   ]
  },
  {
   "cell_type": "code",
   "execution_count": null,
   "metadata": {},
   "outputs": [],
   "source": [
    "# TODO\n",
    "\n",
    "# #############################################################################\n",
    "# Fit regression model\n",
    "params = {'n_estimators': 100, 'max_depth': 4, 'min_samples_split': 2,\n",
    "          'learning_rate': 0.01, 'loss': 'ls'}\n",
    "clf = ensemble.GradientBoostingRegressor(**params)\n",
    "\n",
    "clf.fit(X_train, y_train)\n",
    "mse = mean_squared_error(y_test, clf.predict(X_test))\n",
    "print(\"MSE: %.4f\" % mse)\n",
    "print(\"accuracy score: \", clf.score(X_test, y_test))\n",
    "\n",
    "# #############################################################################\n",
    "# Plot training deviance\n",
    "\n",
    "# compute test set deviance\n",
    "test_score = np.zeros((params['n_estimators'],), dtype=np.float64)\n",
    "\n",
    "for i, y_pred in enumerate(clf.staged_predict(X_test)):\n",
    "    test_score[i] = clf.loss_(y_test, y_pred)\n",
    "\n",
    "plt.figure(figsize=(12, 6))\n",
    "plt.subplot(1, 2, 1)\n",
    "plt.title('Deviance')\n",
    "plt.plot(np.arange(params['n_estimators']) + 1, clf.train_score_, 'b-',\n",
    "         label='Training Set Deviance')\n",
    "plt.plot(np.arange(params['n_estimators']) + 1, test_score, 'r-',\n",
    "         label='Test Set Deviance')\n",
    "plt.legend(loc='upper right')\n",
    "plt.xlabel('Boosting Iterations')\n",
    "plt.ylabel('Deviance')"
   ]
  },
  {
   "cell_type": "markdown",
   "metadata": {},
   "source": [
    "## Task 2: Clustering\n",
    "\n",
    "The second task is to identify sweet recipes such as cookies, cakes, pancakes, fruit bowls and so on. You may use any clustering algorithm you deem appropriate. The sweet recipes do not need to end up in only one cluster, but neither should they be split up among more than at most 10 clusters. It should be reasonable effort to combine them into one list.<br/>\n",
    "You also do not need to compute your result in one step. Data preparation, iterative refinements and the like are fine as well.\n",
    "\n",
    "Do not worry if you end up with a solution that does not contain *all* and *only* sweet recipes!<br/>\n",
    "This task is far from easy and an *as good as possible* solution is just fine!<br/>\n",
    "Remember to take notes on what worked and what did not.\n",
    "\n",
    "*Hint 1:* The data consists of sparse (binary) vectors. Angle based measures usually work quite well on those.\n",
    "\n",
    "*Hint 2:* You don't need to work on the entire table at once! Feel free to reduce the working set and remove columns, that are all $0$ or $False$.\n",
    "\n",
    "*Hint 3:* The ingredients are not independent! E.g. different kinds of meat and vegetables can be interchangeable. Having the same recipe two times with different kinds of potatoes or meats should not be equally dissimilar than having one of these recipes use fruits or fish instead. You can *smooth* the vectors by using the interaction of ingredients."
   ]
  },
  {
   "cell_type": "code",
   "execution_count": 5,
   "metadata": {},
   "outputs": [],
   "source": [
    "from sklearn.cluster import KMeans\n",
    "recipes_ar = recipes.values\n",
    "recipes_ar = np.delete(recipes_ar,0,1)"
   ]
  },
  {
   "cell_type": "code",
   "execution_count": null,
   "metadata": {},
   "outputs": [],
   "source": [
    "km = KMeans(n_clusters=8).fit(recipes_ar)"
   ]
  },
  {
   "cell_type": "code",
   "execution_count": null,
   "metadata": {},
   "outputs": [],
   "source": [
    "label6 = [i for i in range(len(km.labels_)) if km.labels_[i] == 6]\n",
    "print(recipes.loc[label6[10]])"
   ]
  },
  {
   "cell_type": "code",
   "execution_count": 20,
   "metadata": {},
   "outputs": [
    {
     "data": {
      "text/plain": [
       "True"
      ]
     },
     "execution_count": 20,
     "metadata": {},
     "output_type": "execute_result"
    }
   ],
   "source": [
    "recipes.loc[1]['Zucker']"
   ]
  },
  {
   "cell_type": "code",
   "execution_count": 21,
   "metadata": {},
   "outputs": [],
   "source": [
    "#Zucker Cluster, alle mit Zucker in ein Cluster\n",
    "zucker_label = np.zeros(len(recipes))\n",
    "for k in range(len(recipes)):\n",
    "    if (recipes.loc[k][\"Zucker\"]):\n",
    "        zucker_label[k] = 1"
   ]
  },
  {
   "cell_type": "code",
   "execution_count": 28,
   "metadata": {},
   "outputs": [
    {
     "data": {
      "text/plain": [
       "33.542857142857144"
      ]
     },
     "execution_count": 28,
     "metadata": {},
     "output_type": "execute_result"
    }
   ],
   "source": [
    "np.mean(zucker_label)*100"
   ]
  },
  {
   "cell_type": "code",
   "execution_count": 12,
   "metadata": {},
   "outputs": [
    {
     "data": {
      "text/plain": [
       "array([['a', '1', '1'],\n",
       "       ['b', '0', '4'],\n",
       "       ['c', '3', '9']], dtype='<U1')"
      ]
     },
     "execution_count": 12,
     "metadata": {},
     "output_type": "execute_result"
    }
   ],
   "source": [
    "arr = np.array([['a',1,1],['b',0,4],['c',3,9]])\n",
    "arr"
   ]
  },
  {
   "cell_type": "code",
   "execution_count": 15,
   "metadata": {},
   "outputs": [
    {
     "data": {
      "text/plain": [
       "array([['1', '1'],\n",
       "       ['0', '4'],\n",
       "       ['3', '9']], dtype='<U1')"
      ]
     },
     "execution_count": 15,
     "metadata": {},
     "output_type": "execute_result"
    }
   ],
   "source": [
    "np.delete(arr,0,1)"
   ]
  },
  {
   "cell_type": "code",
   "execution_count": null,
   "metadata": {},
   "outputs": [],
   "source": []
  }
 ],
 "metadata": {
  "kernelspec": {
   "display_name": "Python 3",
   "language": "python",
   "name": "python3"
  },
  "language_info": {
   "codemirror_mode": {
    "name": "ipython",
    "version": 3
   },
   "file_extension": ".py",
   "mimetype": "text/x-python",
   "name": "python",
   "nbconvert_exporter": "python",
   "pygments_lexer": "ipython3",
   "version": "3.7.0"
  }
 },
 "nbformat": 4,
 "nbformat_minor": 2
}

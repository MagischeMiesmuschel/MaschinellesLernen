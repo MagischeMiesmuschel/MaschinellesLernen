{
 "cells": [
  {
   "cell_type": "markdown",
   "metadata": {},
   "source": [
    "# Naive Bayes\n",
    "\n",
    "The skiing season is open. To reliably decide when to go skiing and when not, you could use a classifier such as Naive Bayes. The classifier will be trained with your observations from the last year. Your notes include the following attributes:\n",
    "\n",
    "- *The weather:* The attribute `weather` can have the following three values:\n",
    "    - `sunny`\n",
    "    - `rainy`\n",
    "    - `snow`\n",
    "- *The snow level:* The attribute `snow level` can have the following three values:\n",
    "    - $\\geq 50$ (There are at least 50 cm of snow)\n",
    "    - $< 50$ (There are less than 50 cm of snow)\n",
    "    \n",
    "Assume you wanted to go skiing 8 times during the previous year. Here is the table with your decisions:"
   ]
  },
  {
   "cell_type": "code",
   "execution_count": 1,
   "metadata": {},
   "outputs": [
    {
     "data": {
      "text/html": [
       "<div>\n",
       "<style scoped>\n",
       "    .dataframe tbody tr th:only-of-type {\n",
       "        vertical-align: middle;\n",
       "    }\n",
       "\n",
       "    .dataframe tbody tr th {\n",
       "        vertical-align: top;\n",
       "    }\n",
       "\n",
       "    .dataframe thead th {\n",
       "        text-align: right;\n",
       "    }\n",
       "</style>\n",
       "<table border=\"1\" class=\"dataframe\">\n",
       "  <thead>\n",
       "    <tr style=\"text-align: right;\">\n",
       "      <th></th>\n",
       "      <th>weather</th>\n",
       "      <th>snow level</th>\n",
       "      <th>ski?</th>\n",
       "    </tr>\n",
       "  </thead>\n",
       "  <tbody>\n",
       "    <tr>\n",
       "      <th>0</th>\n",
       "      <td>sunny</td>\n",
       "      <td>&lt; 50</td>\n",
       "      <td>no</td>\n",
       "    </tr>\n",
       "    <tr>\n",
       "      <th>1</th>\n",
       "      <td>rainy</td>\n",
       "      <td>&lt; 50</td>\n",
       "      <td>no</td>\n",
       "    </tr>\n",
       "    <tr>\n",
       "      <th>2</th>\n",
       "      <td>rainy</td>\n",
       "      <td>&gt;= 50</td>\n",
       "      <td>no</td>\n",
       "    </tr>\n",
       "    <tr>\n",
       "      <th>3</th>\n",
       "      <td>snow</td>\n",
       "      <td>&gt;= 50</td>\n",
       "      <td>yes</td>\n",
       "    </tr>\n",
       "    <tr>\n",
       "      <th>4</th>\n",
       "      <td>snow</td>\n",
       "      <td>&lt; 50</td>\n",
       "      <td>no</td>\n",
       "    </tr>\n",
       "    <tr>\n",
       "      <th>5</th>\n",
       "      <td>sunny</td>\n",
       "      <td>&gt;= 50</td>\n",
       "      <td>yes</td>\n",
       "    </tr>\n",
       "    <tr>\n",
       "      <th>6</th>\n",
       "      <td>snow</td>\n",
       "      <td>&gt;= 50</td>\n",
       "      <td>yes</td>\n",
       "    </tr>\n",
       "    <tr>\n",
       "      <th>7</th>\n",
       "      <td>rainy</td>\n",
       "      <td>&lt; 50</td>\n",
       "      <td>yes</td>\n",
       "    </tr>\n",
       "  </tbody>\n",
       "</table>\n",
       "</div>"
      ],
      "text/plain": [
       "  weather snow level ski?\n",
       "0   sunny       < 50   no\n",
       "1   rainy       < 50   no\n",
       "2   rainy      >= 50   no\n",
       "3    snow      >= 50  yes\n",
       "4    snow       < 50   no\n",
       "5   sunny      >= 50  yes\n",
       "6    snow      >= 50  yes\n",
       "7   rainy       < 50  yes"
      ]
     },
     "execution_count": 1,
     "metadata": {},
     "output_type": "execute_result"
    }
   ],
   "source": [
    "import pandas as pd\n",
    "df = pd.DataFrame([\n",
    "    [\"sunny\", \"< 50\", \"no\"],\n",
    "    [\"rainy\", \"< 50\", \"no\"],\n",
    "    [\"rainy\", \">= 50\", \"no\"],\n",
    "    [\"snow\", \">= 50\", \"yes\"],\n",
    "    [\"snow\", \"< 50\", \"no\"],\n",
    "    [\"sunny\", \">= 50\", \"yes\"],\n",
    "    [\"snow\", \">= 50\", \"yes\"],\n",
    "    [\"rainy\", \"< 50\", \"yes\"]],\n",
    "    columns = [\"weather\",\"snow level\", \"ski?\"])\n",
    "df"
   ]
  },
  {
   "cell_type": "markdown",
   "metadata": {},
   "source": [
    "a) Compute the *a priori* probabilities for both classes `ski = yes` and `ski = no` (on the training set)!"
   ]
  },
  {
   "cell_type": "markdown",
   "metadata": {},
   "source": [
    "#### TODO"
   ]
  },
  {
   "cell_type": "markdown",
   "metadata": {},
   "source": [
    "$\\text{Count}_{total}=8$\n",
    "\n",
    "$\\text{Count}_{no}=4 \\Rightarrow P_{no}=0.5$\n",
    "\n",
    "$\\text{Count}_{yes}=4 \\Rightarrow P_{yes}=0.5$"
   ]
  },
  {
   "cell_type": "code",
   "execution_count": 5,
   "metadata": {},
   "outputs": [
    {
     "name": "stdout",
     "output_type": "stream",
     "text": [
      "0.5\n",
      "0.5\n"
     ]
    }
   ],
   "source": [
    "import numpy as np\n",
    "\n",
    "p_no = np.mean([df[\"ski?\"]==\"no\"])\n",
    "p_yes = np.mean([df[\"ski?\"]==\"yes\"])\n",
    "\n",
    "print(p_no)\n",
    "print(p_yes)"
   ]
  },
  {
   "cell_type": "markdown",
   "metadata": {},
   "source": [
    "b) Compute the conditional distributions for the two classes for each attribute."
   ]
  },
  {
   "cell_type": "markdown",
   "metadata": {},
   "source": [
    "#### TODO"
   ]
  },
  {
   "cell_type": "markdown",
   "metadata": {},
   "source": [
    "$P(\\text{weather=sunny | yes}) = \\frac{\\text{Anzahl sunny Tage mit ski=yes}}{\\text{Anzahl Tage mit ski=yes}} =\\frac{1}{4}$\n",
    "\n",
    "$P(\\text{weather=sunny | no}) = \\frac{1}{4}$\n",
    "\n",
    "$P(\\text{weather=snow | yes}) = \\frac{2}{4} = \\frac{1}{2}$\n",
    "\n",
    "$P(\\text{weather=snow | no}) = \\frac{1}{4}$\n",
    "\n",
    "$P(\\text{weather=rainy | yes}) = \\frac{1}{4}$\n",
    "\n",
    "$P(\\text{weather=rainy | no}) = \\frac{2}{4} = \\frac{1}{2}$\n",
    "\n",
    "$P(\\text{snow=<50 | yes}) = \\frac{1}{4}$\n",
    "\n",
    "$P(\\text{weather=<50 | no}) = \\frac{3}{4}$\n",
    "\n",
    "$P(\\text{snow=>=50 | yes}) = \\frac{3}{4}$\n",
    "\n",
    "$P(\\text{weather=>=50 | no}) = \\frac{1}{4}$"
   ]
  },
  {
   "cell_type": "code",
   "execution_count": 26,
   "metadata": {},
   "outputs": [
    {
     "name": "stdout",
     "output_type": "stream",
     "text": [
      "weather sunny no : 0.25\n",
      "weather sunny yes : 0.25\n",
      "weather rainy no : 0.5\n",
      "weather rainy yes : 0.25\n",
      "weather snow no : 0.25\n",
      "weather snow yes : 0.5\n",
      "snow level < 50 no : 0.75\n",
      "snow level < 50 yes : 0.25\n",
      "snow level >= 50 no : 0.25\n",
      "snow level >= 50 yes : 0.75\n"
     ]
    }
   ],
   "source": [
    "def Cond_prob(df,col,val,label):\n",
    "    return np.sum((np.array([df[col]==val])*np.array([df[\"ski?\"]==label]))) / np.sum([df[\"ski?\"]==label])\n",
    "\n",
    "prob_cond=dict()\n",
    "prob_cond[\"no\"]=p_no\n",
    "prob_cond[\"yes\"]=p_yes\n",
    "for col in df.keys()[:-1]:\n",
    "    for val in set(df[col]):\n",
    "        for label in set(df[\"ski?\"]):\n",
    "            text = val + label\n",
    "            prob_cond[text] = Cond_prob(df,col,val,label)\n",
    "            print(col,val,label,\":\",prob_cond[text])"
   ]
  },
  {
   "cell_type": "markdown",
   "metadata": {},
   "source": [
    "c) Decide for the following weather and snow conditions, whether to go skiing or not! Use the Naive Bayes classificator for finding the decision."
   ]
  },
  {
   "cell_type": "code",
   "execution_count": 27,
   "metadata": {},
   "outputs": [
    {
     "data": {
      "text/html": [
       "<div>\n",
       "<style scoped>\n",
       "    .dataframe tbody tr th:only-of-type {\n",
       "        vertical-align: middle;\n",
       "    }\n",
       "\n",
       "    .dataframe tbody tr th {\n",
       "        vertical-align: top;\n",
       "    }\n",
       "\n",
       "    .dataframe thead th {\n",
       "        text-align: right;\n",
       "    }\n",
       "</style>\n",
       "<table border=\"1\" class=\"dataframe\">\n",
       "  <thead>\n",
       "    <tr style=\"text-align: right;\">\n",
       "      <th></th>\n",
       "      <th>weather</th>\n",
       "      <th>snow level</th>\n",
       "    </tr>\n",
       "  </thead>\n",
       "  <tbody>\n",
       "    <tr>\n",
       "      <th>day A</th>\n",
       "      <td>sunny</td>\n",
       "      <td>&gt;= 50</td>\n",
       "    </tr>\n",
       "    <tr>\n",
       "      <th>day B</th>\n",
       "      <td>rainy</td>\n",
       "      <td>&lt; 50</td>\n",
       "    </tr>\n",
       "    <tr>\n",
       "      <th>day C</th>\n",
       "      <td>snow</td>\n",
       "      <td>&lt; 50</td>\n",
       "    </tr>\n",
       "  </tbody>\n",
       "</table>\n",
       "</div>"
      ],
      "text/plain": [
       "      weather snow level\n",
       "day A   sunny      >= 50\n",
       "day B   rainy       < 50\n",
       "day C    snow       < 50"
      ]
     },
     "execution_count": 27,
     "metadata": {},
     "output_type": "execute_result"
    }
   ],
   "source": [
    "dfq = pd.DataFrame([\n",
    "    [\"sunny\",\">= 50\"],\n",
    "    [\"rainy\",\"< 50\"],\n",
    "    [\"snow\",\"< 50\"]],\n",
    "    columns=df.columns[:2],\n",
    "    index = [\"day \"+x for x in [\"A\",\"B\",\"C\"]])\n",
    "dfq"
   ]
  },
  {
   "cell_type": "markdown",
   "metadata": {},
   "source": [
    "#### TODO"
   ]
  },
  {
   "cell_type": "code",
   "execution_count": 30,
   "metadata": {},
   "outputs": [
    {
     "name": "stdout",
     "output_type": "stream",
     "text": [
      "Für Index 0 ist Skifahren ok.\n",
      "Für Index 1 ist Skifahren nicht ok.\n",
      "Für Index 2 ist Skifahren nicht ok.\n"
     ]
    }
   ],
   "source": [
    "prob_new=[]\n",
    "for i in dfq.to_numpy():\n",
    "    dump = []\n",
    "    texty = [i[0]+\"yes\",i[1]+\"yes\"]\n",
    "    textn = [i[0]+\"no\",i[1]+\"no\"]\n",
    "    dump.append((prob_cond[texty[0]]*prob_cond[texty[1]])*prob_cond[\"yes\"])\n",
    "    dump.append((prob_cond[textn[0]]*prob_cond[textn[1]])*prob_cond[\"no\"])\n",
    "    prob_new.append(dump)\n",
    "\n",
    "for i in range(len(prob_new)):\n",
    "    if np.argmax(prob_new[i]) == 0:\n",
    "        print(\"Für Index\",i,\"ist Skifahren ok.\")\n",
    "    else:\n",
    "        print(\"Für Index\",i,\"ist Skifahren nicht ok.\")"
   ]
  },
  {
   "cell_type": "markdown",
   "metadata": {},
   "source": [
    "# Support Vector Machines\n",
    "\n",
    "Given the following data points in $\\mathbb{R}^2$ and their associated class labels:"
   ]
  },
  {
   "cell_type": "code",
   "execution_count": null,
   "metadata": {},
   "outputs": [],
   "source": [
    "import pandas as pd\n",
    "from plotly import graph_objects as go\n",
    "df = pd.DataFrame([\n",
    "    [2.0, 1.0, -1],\n",
    "    [3.5, 0.5, -1],\n",
    "    [3.5, 2.0, -1],\n",
    "    [1.0, 3.0, +1],\n",
    "    [2.0, 3.0, +1],\n",
    "    [3.0, 4.0, +1]],\n",
    "    columns=[\"$X_1$\", \"$X_2$\", \"$Y$\"],\n",
    "    index=range(1,7))\n",
    "fig = go.Figure()\n",
    "fig.add_trace(go.Scatter(x=df[\"$X_1$\"][:3],y=df[\"$X_2$\"][:3],text=list(range(1,4)),mode=\"markers\",marker=dict(color=\"red\")))\n",
    "fig.add_trace(go.Scatter(x=df[\"$X_1$\"][3:],y=df[\"$X_2$\"][3:],text=list(range(4,7)),mode=\"markers\",marker=dict(color=\"blue\")))\n",
    "fig.show()\n",
    "df"
   ]
  },
  {
   "cell_type": "markdown",
   "metadata": {},
   "source": [
    "a) Geometrically identify the support vectors for the maximum margin hyperplane (MMH) that linearly separates this data set into the classes given by $Y$.\n",
    "Based on the support vectors, clearly show how you computed the exact values of $\\vec{w}$, $b$, and the width of the margin $d$ (do not only give the result).\n",
    "\n",
    "Hint: verify your result: your support vectors must score $+1$ respectively $-1$."
   ]
  },
  {
   "cell_type": "markdown",
   "metadata": {},
   "source": [
    "#### TODO\n",
    "*(You can add the hyperplane to the plot by adding another trace to the figure above.)*"
   ]
  },
  {
   "cell_type": "markdown",
   "metadata": {},
   "source": [
    "b) Compute the class $y_i$ for the new points $x_1 = (1,3.5), x_2 = (3,0.5), x_3 = (0,0)$ on the basis of your derived MMH $(w,b)$. Show how you arrived at your solution."
   ]
  },
  {
   "cell_type": "markdown",
   "metadata": {},
   "source": [
    "#### TODO"
   ]
  },
  {
   "cell_type": "markdown",
   "metadata": {},
   "source": [
    "c) Given the following data, perform an analysis with respect to linear separability."
   ]
  },
  {
   "cell_type": "code",
   "execution_count": null,
   "metadata": {},
   "outputs": [],
   "source": [
    "dfq = pd.DataFrame([\n",
    "    [-1.5 , -3.  ,  1.  ],\n",
    "    [-1.  ,  0.  ,  1.  ],\n",
    "    [-0.5 ,  1.  ,  1.  ],\n",
    "    [ 0.  ,  2.  ,  1.  ],\n",
    "    [ 0.5 ,  1.  ,  1.  ],\n",
    "    [ 1.  ,  2.  ,  1.  ],\n",
    "    [ 1.5 ,  3.75,  1.  ],\n",
    "    [-1.  , -2.  , -1.  ],\n",
    "    [-0.5 , -1.  , -1.  ],\n",
    "    [ 0.  , -3.  , -1.  ],\n",
    "    [ 0.5 , -0.5 , -1.  ],\n",
    "    [ 1.  , -2.  , -1.  ],\n",
    "    [ 1.5 ,  1.5 , -1.  ]],\n",
    "    columns = df.columns)\n",
    "dfq"
   ]
  },
  {
   "cell_type": "markdown",
   "metadata": {},
   "source": [
    "First, plot the data as a colored scatter plot in python to verify that the data is not linearly separable.\n",
    "\n",
    "Then consider the following transformations:\n",
    "\n",
    " - $\\phi_1(x_1, x_2) = (x^2_1, x_2)$\n",
    " - $\\phi_2(x_1, x_2) = (x^3_1 - 2x_1, x_2)$\n",
    " - $\\phi_3(x_1, x_2) = (x^3_1, x_2)$\n",
    " \n",
    "For each transformation, create a new scatter plot.\n",
    "\n",
    "\n",
    "Include all four plots in the jupyter notebook and discuss which of the transformations can be used to make the data linearly separable.\n",
    "For those transformations that make the data linearly separable, add a hyperplane (not necessarily the MMH!) to the plot that separates the data.\n",
    "All plots must be labeled with the appropriate transformation."
   ]
  },
  {
   "cell_type": "code",
   "execution_count": null,
   "metadata": {},
   "outputs": [],
   "source": [
    "# TODO"
   ]
  }
 ],
 "metadata": {
  "kernelspec": {
   "display_name": "Python 3",
   "language": "python",
   "name": "python3"
  },
  "language_info": {
   "codemirror_mode": {
    "name": "ipython",
    "version": 3
   },
   "file_extension": ".py",
   "mimetype": "text/x-python",
   "name": "python",
   "nbconvert_exporter": "python",
   "pygments_lexer": "ipython3",
   "version": "3.7.0"
  }
 },
 "nbformat": 4,
 "nbformat_minor": 2
}

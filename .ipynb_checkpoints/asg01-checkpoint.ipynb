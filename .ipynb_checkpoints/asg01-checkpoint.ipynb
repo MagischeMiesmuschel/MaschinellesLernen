{
 "cells": [
  {
   "cell_type": "markdown",
   "metadata": {},
   "source": [
    "### Problem 1-1\n",
    "\n",
    "\n",
    "In this assignment you will get to know the well-known `iris flower petal` data set (which is included in sklearn).\n",
    "For the tasks below, only consider the numeric attributes `petal length`, `petal width`, `sepal length`, and `sepal width`. This data set has $p=4$ numeric attributes and $n=150$ rows."
   ]
  },
  {
   "cell_type": "code",
   "execution_count": 1,
   "metadata": {
    "scrolled": true
   },
   "outputs": [],
   "source": [
    "import sklearn.datasets\n",
    "\n",
    "iris = sklearn.datasets.load_iris()\n",
    "iris = iris.data # Im Folgenden verwenden wir nur die Datenmatrix des iris Datensatzes"
   ]
  },
  {
   "cell_type": "markdown",
   "metadata": {},
   "source": [
    "(a) Print the empirical mean and the empirical standard deviation of the attributes."
   ]
  },
  {
   "cell_type": "code",
   "execution_count": 2,
   "metadata": {},
   "outputs": [
    {
     "name": "stdout",
     "output_type": "stream",
     "text": [
      "5.843333333333335 +/- 0.8253012917851409\n",
      "3.057333333333334 +/- 0.43441096773549437\n",
      "3.7580000000000027 +/- 1.7594040657753032\n",
      "1.199333333333334 +/- 0.7596926279021594\n"
     ]
    }
   ],
   "source": [
    "# TODO\n",
    "import numpy as np\n",
    "std_iris = np.std(iris,axis=0)\n",
    "mean_iris = np.mean(iris,axis=0)\n",
    "for i in range(len(std_iris)):\n",
    "    print(mean_iris[i],\"+/-\",std_iris[i])"
   ]
  },
  {
   "cell_type": "markdown",
   "metadata": {},
   "source": [
    "(b) Create a boxplot containing the above attributes (4 boxes)."
   ]
  },
  {
   "cell_type": "code",
   "execution_count": 3,
   "metadata": {},
   "outputs": [
    {
     "data": {
      "text/plain": [
       "<Figure size 640x480 with 1 Axes>"
      ]
     },
     "metadata": {},
     "output_type": "display_data"
    }
   ],
   "source": [
    "# TODO\n",
    "import matplotlib.pyplot as plt\n",
    "plt.errorbar(np.arange(4),mean_iris,std_iris,fmt='ok',lw=3)\n",
    "plt.show()"
   ]
  },
  {
   "cell_type": "markdown",
   "metadata": {},
   "source": [
    "(c) Calculate the pairwise (Pearson) correlation coefficients between the attributes and show the results in a 𝑝×𝑝\n",
    "matrix."
   ]
  },
  {
   "cell_type": "code",
   "execution_count": 4,
   "metadata": {},
   "outputs": [
    {
     "name": "stdout",
     "output_type": "stream",
     "text": [
      "[ 1.         -0.11756978  0.87175378  0.81794113]\n",
      "[-0.11756978  1.         -0.4284401  -0.36612593]\n",
      "[ 0.87175378 -0.4284401   1.          0.96286543]\n",
      "[ 0.81794113 -0.36612593  0.96286543  1.        ]\n"
     ]
    }
   ],
   "source": [
    "# TODO\n",
    "import scipy.stats as sp\n",
    "correlation = []\n",
    "cormatrix = []\n",
    "for i in range(4):\n",
    "    for j in range(4):\n",
    "        correlation.append([sp.pearsonr(iris[:,i],iris[:,j])[0],i,j])\n",
    "for i in range(4):\n",
    "    cormatrix.append(np.array(correlation)[i*4:i*4+4,0])\n",
    "for i in cormatrix:\n",
    "    print(i)"
   ]
  },
  {
   "cell_type": "markdown",
   "metadata": {},
   "source": [
    "(d) Create a scatter plot for the two attributes with highest positive correlation coefficients (or between any two attributes in case you have problems with (c)). A scatter plot simply plots the sample values of two given attributes on the x- and y-axis respectively."
   ]
  },
  {
   "cell_type": "code",
   "execution_count": 5,
   "metadata": {},
   "outputs": [
    {
     "data": {
      "image/png": "[encoded data removed]",
      "text/plain": [
       "<Figure size 432x288 with 1 Axes>"
      ]
     },
     "metadata": {
      "needs_background": "light"
     },
     "output_type": "display_data"
    }
   ],
   "source": [
    "# TODO\n",
    "#Maximale Korrelation bei Attribut 2 und 3 (ich fange bei 0 an zu zählen)\n",
    "plt.scatter(iris[:,2],iris[:,3])\n",
    "plt.grid()\n",
    "plt.title(\"Scatterplot sepal length and sepal width\")\n",
    "plt.show()"
   ]
  },
  {
   "cell_type": "markdown",
   "metadata": {},
   "source": [
    "### Problem 1-2\n",
    "\n",
    "In this exercise you will familiarize yourself with distance metrics. Note, that jupyter notebooks also allows Markdown cells in which you can render Math-Equations. Thus, you can include your answers in the juypter notebook."
   ]
  },
  {
   "cell_type": "markdown",
   "metadata": {},
   "source": [
    "(a) How many distance calculations are necessary to compute the $n \\times n$ distance matrix for $n$ points? Justify your answer."
   ]
  },
  {
   "cell_type": "markdown",
   "metadata": {},
   "source": [
    "# TODO"
   ]
  },
  {
   "cell_type": "markdown",
   "metadata": {},
   "source": [
    "You need $\\sum_{n=1}(n-1)$ calculations to compute the $n \\times n$ distance matrix for $n$ points\n",
    "\n",
    "The first point needs to be compared with $(n-1)$, the next with $(n-2)$, \n",
    "because the first point was allready compared with it and so on."
   ]
  },
  {
   "cell_type": "code",
   "execution_count": 6,
   "metadata": {},
   "outputs": [],
   "source": [
    "ittarray=[]\n",
    "test=[]\n",
    "for x in range(1,100):\n",
    "    temp=0\n",
    "    itteration=0\n",
    "    for i in range(1,x):\n",
    "        temp+=i-1\n",
    "        for j in range(1,x):\n",
    "            if(j>i):\n",
    "                itteration+=1\n",
    "    ittarray.append((itteration))\n",
    "    test.append(temp)"
   ]
  },
  {
   "cell_type": "code",
   "execution_count": 7,
   "metadata": {},
   "outputs": [
    {
     "data": {
      "image/png": "[encoded data removed]",
      "text/plain": [
       "<Figure size 432x288 with 1 Axes>"
      ]
     },
     "metadata": {
      "needs_background": "light"
     },
     "output_type": "display_data"
    },
    {
     "name": "stdout",
     "output_type": "stream",
     "text": [
      "[0, 0, 1, 3, 6, 10, 15, 21, 28, 36, 45, 55, 66, 78, 91, 105, 120, 136, 153, 171]\n",
      "[0, 0, 1, 3, 6, 10, 15, 21, 28, 36, 45, 55, 66, 78, 91, 105, 120, 136, 153, 171]\n"
     ]
    }
   ],
   "source": [
    "plt.plot(ittarray,'bx')\n",
    "plt.plot(test,'r--')\n",
    "plt.grid()\n",
    "plt.show()\n",
    "print(ittarray[:20])\n",
    "print(test[:20])"
   ]
  },
  {
   "cell_type": "markdown",
   "metadata": {},
   "source": [
    "(b) Given the vertices $V$ of a connected, undirected graph with positive edge lengths, \n",
    "and the distance function $d(x,y)$ that computes the shortest path between\n",
    "vertices $x$ and $y$ in this graph. Show that $d$ is a metric by checking that all required conditions of a metric are satisfied:\n",
    "\n",
    "1) $d(x,y)\\geq 0$ (non-negativity)\n",
    "\n",
    "2) $d(x,y) = 0 \\Leftrightarrow x = y$ (identity of indiscernibles)\n",
    "\n",
    "3) $d(x,y)=d(y,x)$ (symmetry)\n",
    "\n",
    "4) $d(x,y) \\leq d(x,o) + d(o,y) $ (triangle inequality)"
   ]
  },
  {
   "cell_type": "markdown",
   "metadata": {},
   "source": [
    "# TODO"
   ]
  },
  {
   "cell_type": "markdown",
   "metadata": {},
   "source": [
    "1) A path between two points cant be negative units long\n",
    "\n",
    "2) If the distance function is zero, the point is on the exact same position => x=y\n",
    "\n",
    "3) It doesn't matter if you measure the distance from x to y or y to x, it is always the same distance\n",
    "\n",
    "4) The shortest path is a straight line between two points. If you go on an other point between the two points it will be longer, or equaly long (if the point is on the line between x and y)."
   ]
  },
  {
   "cell_type": "markdown",
   "metadata": {},
   "source": [
    "(c) Given two input vectors $x, y \\in \\mathbb{R}^d$ in a $d$-dimensional vector space, we may use the Pearson correlation coefficient or the cosine similarity to compute the similarity between the vectors. The Pearson correlation coefficient is defined as:\n",
    "$$\n",
    "sim_{P}(x, y) = \\frac{ \\sum_{i=1}^d (x_i - \\overline{x}) (y_i - \\overline{y}) }\n",
    "               { \\sqrt{\\sum_{i=1}^d (x_i - \\overline{x})^2} \\sqrt{\\sum_{i=1}^d (y_i - \\overline{y})^2} }.\n",
    "$$\n",
    "The cosine similarity between two vectors is defined as:\n",
    "$$\\operatorname{sim}_{C}(x, y) = \\frac{x \\cdot y}{||x|| \\cdot ||y||}$$\n",
    "with $\\cdot$ being the dot product and $||x||$ being the Euclidean norm of vector $x$.\n",
    "Under which conditions are the two measures $\\operatorname{sim}_{P}$ and $\\operatorname{sim}_{C}$ equal and why?."
   ]
  },
  {
   "cell_type": "markdown",
   "metadata": {},
   "source": [
    "# TODO"
   ]
  },
  {
   "cell_type": "markdown",
   "metadata": {},
   "source": [
    "If $\\bar x$ and $\\bar y = 0$\n",
    "\n",
    "Because you can write the cosine similarity like:\n",
    "\n",
    "$\\text{sim}_c(x,y)={\\mathbf {x} \\cdot \\mathbf {y}  \\over \\|\\mathbf {x} \\|_{2}\\|\\mathbf {y} \\|_{2}}={\\frac {\\sum _{i=1}^{n}{x_{i}\\cdot y_{i}}}{{\\sqrt {\\sum _{i=1}^{n}{(x_{i})^{2}}}}\\cdot {\\sqrt {\\sum _{i=1}^{n}{(y_{i})^{2}}}}}}$"
   ]
  },
  {
   "cell_type": "markdown",
   "metadata": {},
   "source": [
    "(d) What is the geometric interpretation of the cosine similarity between two points $x,y \\in \\mathbb{R}^d$?"
   ]
  },
  {
   "cell_type": "markdown",
   "metadata": {},
   "source": [
    "# TODO"
   ]
  },
  {
   "cell_type": "markdown",
   "metadata": {},
   "source": [
    "The cosine similarity measures the angle between the two vectors. The result is between -1 and 1. -1 (exactly opposite) and 1 (exactly rectified). A value of 0 means orthogonality"
   ]
  },
  {
   "cell_type": "markdown",
   "metadata": {},
   "source": [
    "### Problem 1-3\n",
    "Distance functions can be classified into the following categories."
   ]
  },
  {
   "cell_type": "markdown",
   "metadata": {},
   "source": [
    "(a) Discuss in at most three sentences how this table contains the axiom `identity of indiscernibles` given in the lecture."
   ]
  },
  {
   "cell_type": "markdown",
   "metadata": {},
   "source": [
    "# TODO"
   ]
  },
  {
   "cell_type": "markdown",
   "metadata": {},
   "source": [
    "(b) Sketch the `circle` of distance 1 (i.e., indicate which points in $\\mathbb{R}^2$ are at distance 1)\n",
    "around a query object $q=(0,0) \\in \\mathbb{R}^2$ for the following distance functions. Try to solve the problem analytically and draw the plot by hand rather than using library functions.\n",
    "\n",
    "1) Euclidean distance \n",
    "    $$d_{\\operatorname{Euclidean}}(x,y) = \\sqrt{\\sum_{i=1}^n (x_i-y_i)^2}$$\n",
    "    \n",
    "2) Manhattan distance\n",
    "    $$d_{\\operatorname{Manhattan}}(x,y) = \\sum_{i=1}^n |x_i-y_i|$$\n",
    "    \n",
    "3) Weighted Euclidean distance for $\\omega = (1.25,2.0)$\n",
    "    $$d_{\\operatorname{WeightedEuclidean}}(x,y) = \\sqrt{\\sum_{i=1}^n \\omega_i(x_i-y_i)^2}$$ \n",
    "    \n",
    "4) Mahalanobis distance \n",
    "    $$d_{\\operatorname{Mahalanobis}}(x,y) = \\sqrt{(x-y)^T\\Sigma^{-1}(x-y)}\n",
    "        = \\sqrt{\\sum_{i=1}^n\\sum_{j=1}^n (x_i-y_i)\\Sigma_{ij}^{-1}(x_j-y_j)},\n",
    "    $$ \n",
    "    where $$\\Sigma^{-1} = \\begin{pmatrix}\n",
    "            1.25 & -0.75 \\\\\n",
    "            -0.75 & 1.25\n",
    "            \\end{pmatrix}$$"
   ]
  },
  {
   "cell_type": "markdown",
   "metadata": {},
   "source": [
    "# TODO"
   ]
  },
  {
   "cell_type": "markdown",
   "metadata": {},
   "source": [
    "1) $1= \\sqrt{\\sum_{i=1}^n (x_i-y_i)^2}=|\\mathbf{x}-\\mathbf{y}|$\n",
    "\n",
    "$\\mathbf q = \\mathbf y \\rightarrow 1 = |\\mathbf x|$\n",
    "\n",
    "Also ein Kreis mit dem Radius 1"
   ]
  },
  {
   "cell_type": "code",
   "execution_count": 8,
   "metadata": {},
   "outputs": [
    {
     "data": {
      "image/png": "[encoded data removed]",
      "text/plain": [
       "<Figure size 432x288 with 1 Axes>"
      ]
     },
     "metadata": {
      "needs_background": "light"
     },
     "output_type": "display_data"
    }
   ],
   "source": [
    "x1=[0,1,0,-1]\n",
    "x2=[1,0,-1,0]\n",
    "y1=np.linspace(-1,1,20)\n",
    "y2=[np.sqrt(1-x**2) for x in y1]\n",
    "y3=[-x for x in y2]\n",
    "plt.plot(y1,y2,'bx')\n",
    "plt.plot(y1,y3,'bx')\n",
    "plt.axis('equal')\n",
    "plt.grid()\n",
    "plt.show()"
   ]
  },
  {
   "cell_type": "markdown",
   "metadata": {},
   "source": [
    "2) $1= \\sum_{i=1}^n |x_i-y_i|$\n",
    "\n",
    "$\\mathbf q = \\mathbf y \\rightarrow 1 = \\sum_{i=1}^n |x_i|$\n",
    "\n",
    "Alle Punkte auf Asymptoten die sich der x und y Achse annähert, aber nie Null sind.\n",
    "Die $x_1$ und $x_2$ Koordinate müssen multipliziert 1 ergeben"
   ]
  },
  {
   "cell_type": "code",
   "execution_count": 9,
   "metadata": {},
   "outputs": [
    {
     "data": {
      "image/png": "[encoded data removed]",
      "text/plain": [
       "<Figure size 432x288 with 1 Axes>"
      ]
     },
     "metadata": {
      "needs_background": "light"
     },
     "output_type": "display_data"
    }
   ],
   "source": [
    "x1=[0.125,0.25,0.5,1,2,4,8]\n",
    "x2=[8,4,2,1,0.5,0.25,0.125]\n",
    "x3=[-x for x in x1]\n",
    "x4=[-x for x in x2]\n",
    "plt.plot(x1,x2,'rx')\n",
    "plt.plot(x3,x4,'rx')\n",
    "plt.axis('equal')\n",
    "plt.grid()\n",
    "plt.show()"
   ]
  },
  {
   "cell_type": "markdown",
   "metadata": {},
   "source": [
    "3) $1= \\sqrt{\\sum_{i=1}^n \\omega_i(x_i-y_i)^2}$ mit $\\omega = (1.25,2.0)$\n",
    "\n",
    "$1 = \\sqrt{\\sum_{i=1}^n \\omega_i\\cdot x_i^2} = \\sqrt{1.25\\cdot x_1^2 + 2\\cdot x_2^2}$\n",
    "\n",
    "$1=1.25\\cdot x_1^2 + 2\\cdot x_2^2$\n",
    "\n",
    "$x_2 = \\pm\\sqrt{0.5 - 0.625\\cdot x_1^2}$\n",
    "\n",
    "$\\Rightarrow 0.5-0.625\\cdot x_1^2 \\geq 0 \\rightarrow x_1^2 \\leq 0.8 \\rightarrow -0.89 \\leq x_1 \\leq 0.89$\n",
    "\n",
    "$\\Rightarrow$ Die Punkte befinden sich auf einer Ellipse"
   ]
  },
  {
   "cell_type": "code",
   "execution_count": 10,
   "metadata": {},
   "outputs": [
    {
     "data": {
      "image/png": "[encoded data removed]",
      "text/plain": [
       "<Figure size 432x288 with 1 Axes>"
      ]
     },
     "metadata": {
      "needs_background": "light"
     },
     "output_type": "display_data"
    }
   ],
   "source": [
    "x1=np.linspace(-0.89,0.89,20)\n",
    "x2=[np.sqrt(0.5-0.625*x**2) for x in x1]\n",
    "x3=[-x for x in x2]\n",
    "plt.plot(x1,x2,'gx')\n",
    "plt.plot(x1,x3,'gx')\n",
    "plt.grid()\n",
    "plt.axis('equal')\n",
    "plt.show()"
   ]
  },
  {
   "cell_type": "markdown",
   "metadata": {},
   "source": [
    "4) $1= \\sqrt{\\sum_{i=1}^n\\sum_{j=1}^n (x_i-y_i)\\Sigma_{ij}^{-1}(x_j-y_j)}$\n",
    "\n",
    "$1= \\sqrt{\\sum_{i=1}^n\\sum_{j=1}^n x_i \\Sigma_{ij}^{-1}x_j}$\n",
    "mit $\\Sigma^{-1} = \\begin{pmatrix}\n",
    "            1.25 & -0.75 \\\\\n",
    "            -0.75 & 1.25\n",
    "            \\end{pmatrix}$"
   ]
  },
  {
   "cell_type": "markdown",
   "metadata": {},
   "source": [
    "$1=\\sqrt{x_1\\cdot 1.25 \\cdot x_1 - x_1 \\cdot 0.75 \\cdot x_2 - x_2 \\cdot 0.75 \\cdot x_1 + x_2 \\cdot 1.25 \\cdot x_2}$\n",
    "\n",
    "$1 = 1.25\\,x_1^2 - 1.5\\,x_1x_2 + 1.25\\,x_2^2$"
   ]
  },
  {
   "cell_type": "markdown",
   "metadata": {},
   "source": [
    "(c) Verify for each of the following functions $d: \\mathbb R^n \\times \\mathbb R^n \\to \\mathbb R_{0}^{+}$, whether they are a\n",
    "distance function, and if so, of which of above types. *Justify your answer!*\n",
    "\n",
    "1) $d(x,y) = \\sum_{i=1}^n (x_i - y_i)$\n",
    "\n",
    "2) $d(x,y) = \\sum_{i=1}^n (x_i - y_i)^2$\n",
    "\n",
    "3) $d(x,y) = \\sqrt{\\sum_{i=1}^{n-1} (x_i - y_i)^2}$\n",
    "\n",
    "4) $d(x,y) = \\sum_{i=1}^n \\left\\{ \\begin{array}{r@{\\quad\\mbox{iff}\\quad}l}\n",
    "            1 & x_i = y_i \\\\\n",
    "            0 & x_i \\neq y_i \\end{array} \\right.$\n",
    "            \n",
    "5) $d(x,y) = \\sum_{i=1}^n \\left\\{ \\begin{array}{r@{\\quad\\mbox{iff}\\quad}l}\n",
    "            1 & x_i \\neq y_i \\\\\n",
    "            0 & x_i = y_i \\end{array} \\right.$"
   ]
  },
  {
   "cell_type": "markdown",
   "metadata": {},
   "source": [
    "# TODO"
   ]
  },
  {
   "cell_type": "markdown",
   "metadata": {},
   "source": [
    "3) pseudo metric, nicht strikt, weil die letzte Zahl der Vektoren nicht aufaddiert wird, deswegen ist egal was die letzte Zahl ist dist=0 beduetet also nicht x=y"
   ]
  },
  {
   "cell_type": "markdown",
   "metadata": {},
   "source": [
    "5) Reflexiv: Ja, ist alles gleich $\\rightarrow$ ergebnis 0\n",
    "\n",
    "Symmetric: Ja, egal wie rum. $x_i=y_i$ ist ein symmetrischer Operator\n",
    "\n",
    "Strict: Ja, ist irgendein $x_i \\neq y_i$ bekommt man eine 1 in die Summe und es gibt nichts negatives $\\Rightarrow$ alles nicht Null\n",
    "\n",
    "Triangle: $d(x,y) \\leq d(x,z)+d(z,y)$ da muss mindestens 1 stehen auf der rechten Seite\n",
    "\n",
    "$d(x,y)=1 \\Rightarrow d(x,z)=1\\; \\text{oder}\\; d(z,y)=1$ $z$ kann nicht gleich $x$ und $y$ sein, sondt wäre $x=y$"
   ]
  },
  {
   "cell_type": "markdown",
   "metadata": {},
   "source": [
    "### Problem 1-4\n",
    "\n",
    "In this exercise you will work practically with distance functions. You can either implement distance functions by yourself or use the existing implementations in `sklearn` (http://scikit-learn.org/stable/modules/classes.html\\#pairwise-metrics). \n",
    "\n",
    "*Hint*: Use `numpy.mean`, `numpy.abs` and other vectorized functions if necessary."
   ]
  },
  {
   "cell_type": "markdown",
   "metadata": {},
   "source": [
    "(a) Compute the distance matrix for the iris data set from problem 1 using Canberra distance.\n",
    "Print the mean distance of the entire $150\\times 150$ matrix.\n",
    "Plot a histogram of the distances in the flattened matrix (use 50 bins)."
   ]
  },
  {
   "cell_type": "code",
   "execution_count": 11,
   "metadata": {},
   "outputs": [
    {
     "name": "stdout",
     "output_type": "stream",
     "text": [
      "mean distance:  0.85910107961631\n"
     ]
    },
    {
     "data": {
      "image/png": "[encoded data removed]",
      "text/plain": [
       "<Figure size 432x288 with 1 Axes>"
      ]
     },
     "metadata": {
      "needs_background": "light"
     },
     "output_type": "display_data"
    }
   ],
   "source": [
    "# TODO\n",
    "from sklearn.neighbors import DistanceMetric as DiMe\n",
    "# access canberra metric/distance function\n",
    "dist_can = DiMe.get_metric('canberra')\n",
    "\n",
    "# numpy array: matrix of canberra distances \n",
    "all_dist_can = np.array(dist_can.pairwise(iris))\n",
    "\n",
    "# calculate mean\n",
    "mean_dist_can = np.mean(all_dist_can)\n",
    "print(\"mean distance: \", mean_dist_can)\n",
    "\n",
    "# flatten/vectorize matrix\n",
    "flat_dist_can = np.ndarray.flatten(all_dist_can)\n",
    "\n",
    "# histogram of the distances\n",
    "hist_can = plt.hist(flat_dist_can, 50)\n",
    "hist_can = plt.xlabel(\"canberra distance\")"
   ]
  },
  {
   "cell_type": "markdown",
   "metadata": {},
   "source": [
    "(b) Compute the covariance matrix, and its inverse.\n",
    "With this matrix, define your own Mahalanobis distance and compute the distance matrix.\n",
    "Print the mean distance of the entire $150\\times 150$ matrix.\n",
    "\n",
    "Compare the result of your implementation to the result of the built-in Mahalanobis distance of `sklearn` to verify your program.\n",
    "\n",
    "Plot a histogram of the distances in the flattened matrix (use 50 bins)."
   ]
  },
  {
   "cell_type": "code",
   "execution_count": 12,
   "metadata": {
    "scrolled": true
   },
   "outputs": [
    {
     "data": {
      "image/png": "[encoded data removed]",
      "text/plain": [
       "<Figure size 432x288 with 1 Axes>"
      ]
     },
     "metadata": {
      "needs_background": "light"
     },
     "output_type": "display_data"
    },
    {
     "data": {
      "image/png": "[encoded data removed]",
      "text/plain": [
       "<Figure size 432x288 with 1 Axes>"
      ]
     },
     "metadata": {
      "needs_background": "light"
     },
     "output_type": "display_data"
    }
   ],
   "source": [
    "# TODO\n",
    "# covariance matrix, inverse\n",
    "cov_iris = np.cov(np.array(iris).T)\n",
    "#print(cov_iris)\n",
    "cov_inv = np.linalg.inv(cov_iris)\n",
    "\n",
    "# access mahalanobis metric/distance function of sklearn\n",
    "dist_mah_skl = DiMe.get_metric('mahalanobis', V = cov_iris, VI = cov_inv)\n",
    "\n",
    "# numpy array: matrix of mahalanobis distances for sklearn\n",
    "all_dist_mah_skl = np.array(dist_mah_skl.pairwise(iris))\n",
    "\n",
    "# flatten/vectorize matrix for sklearn\n",
    "flat_dist_mah_skl = np.ndarray.flatten(all_dist_mah_skl)\n",
    "\n",
    "# histogram of the distances from sklearn\n",
    "hist_can = plt.hist(flat_dist_mah_skl, 50)\n",
    "hist_can = plt.xlabel(\"mahalanobis distance from sklearn\")\n",
    "hist_can = plt.show()\n",
    "\n",
    "# define mahalanobis metric/distance\n",
    "\n",
    "def mahalanobis(p, q):\n",
    "    return cov_inv.dot(p-q).dot(p-q)**0.5\n",
    "\n",
    "dist_mah_def = np.array([[mahalanobis(p,q) for q in iris] for p in iris])\n",
    "\n",
    "# flatten/vectorize matrix\n",
    "flat_dist_mah_def = np.ndarray.flatten(dist_mah_def)\n",
    "\n",
    "# histogram of the distances\n",
    "hist_can2 = plt.hist(flat_dist_mah_def, 50)\n",
    "hist_can2 = plt.xlabel(\"own mahalanobis distance\")\n",
    "hist_can2 = plt.show()"
   ]
  },
  {
   "cell_type": "markdown",
   "metadata": {},
   "source": [
    "(c) Let the Clark distance be defined as:\n",
    "$$d_{\\operatorname{Clark}}(x,y) := \\sqrt{\n",
    "\\frac{1}{d} \\sum_{i=1}^d \\left(\\frac{x_i - y_i}{|x_i|+|y_i|}\\right)^2\n",
    "}$$\n",
    "This distance is not available in sklearn.\n",
    "\n",
    "Implement this distance function yourself, and compute the distance matrix.\n",
    "\n",
    "Print the mean distance of the entire $150\\times 150$ matrix.\n",
    "\n",
    "Plot a histogram of the distances in the flattened matrix (use 50 bins)."
   ]
  },
  {
   "cell_type": "code",
   "execution_count": 13,
   "metadata": {},
   "outputs": [
    {
     "data": {
      "image/png": "[encoded data removed]",
      "text/plain": [
       "<Figure size 432x288 with 1 Axes>"
      ]
     },
     "metadata": {
      "needs_background": "light"
     },
     "output_type": "display_data"
    }
   ],
   "source": [
    "# TODO\n",
    "\n",
    "# define clark metric/distance\n",
    "\n",
    "def clark(p, q):\n",
    "    return np.mean([((p[i]-q[i])/(abs(p[i])+abs(q[i])))**2 for i in range(len(p))])**0.5\n",
    "                                  \n",
    "dist_cla_def = np.array([[clark(p,q) for q in iris] for p in iris])\n",
    "\n",
    "# flatten/vectorize matrix\n",
    "flat_dist_cla_def = np.ndarray.flatten(dist_cla_def)\n",
    "\n",
    "# histogram of the distances from sklearn\n",
    "hist_can = plt.hist(flat_dist_cla_def, 50)\n",
    "hist_can = plt.xlabel(\"clark distance\")\n",
    "hist_can = plt.show()\n"
   ]
  },
  {
   "cell_type": "markdown",
   "metadata": {},
   "source": [
    "### Problem 1-5\n",
    "\n",
    "To apply the right distances depending on the task, it is essential to have an in-depth understanding of how the specific distances work. In the following exercises consider the point $q=(1,2) \\in \\mathbb{R}^2$ and the range $R = [-3,6]^2$."
   ]
  },
  {
   "cell_type": "markdown",
   "metadata": {},
   "source": [
    "(a) Compute the Euclidean distance for all points of a grid sampling of $R$ to the point $q$.\n",
    "\n",
    "Visualize the distance as a contour map.\n",
    "\n",
    "Try to chose the number of sampling points to achieve a good trade off between computation time and visual quality."
   ]
  },
  {
   "cell_type": "code",
   "execution_count": 14,
   "metadata": {},
   "outputs": [
    {
     "data": {
      "image/png": "[encoded data removed]",
      "text/plain": [
       "<Figure size 432x288 with 1 Axes>"
      ]
     },
     "metadata": {
      "needs_background": "light"
     },
     "output_type": "display_data"
    }
   ],
   "source": [
    "# TODO\n",
    "\n",
    "# grid\n",
    "q = np.array([[1,2]])\n",
    "#print(q)\n",
    "\n",
    "x = np.linspace(-3, 6, 25)\n",
    "y = np.linspace(-3 ,6, 25)\n",
    "\n",
    "# https://stackoverflow.com/questions/35418012/how-to-create-matrix-of-points-by-x-y-coordinate-in-python\n",
    "X, Y = np.meshgrid(x, y)\n",
    "\n",
    "X = X.reshape((np.prod(X.shape),))\n",
    "Y = Y.reshape((np.prod(Y.shape),))\n",
    "\n",
    "grid = np.array([X,Y]).T\n",
    "\n",
    "#print(grid)\n",
    "#print(X)\n",
    "#print(Y)\n",
    "\n",
    "dist_eu = DiMe.get_metric('euclidean')\n",
    "\n",
    "# numpy array: matrix of eucledian distances \n",
    "all_dist_eu = np.array(dist_eu.pairwise(grid, q))\n",
    "\n",
    "X, Y = np.meshgrid(x, y)\n",
    "\n",
    "all_dist_eu = np.reshape(all_dist_eu, X.shape)\n",
    "\n",
    "#print(X)\n",
    "#print(Y)\n",
    "#print(all_dist_eu)\n",
    "\n",
    "\n",
    "htest = plt.contour(X, Y, all_dist_eu)\n"
   ]
  },
  {
   "cell_type": "markdown",
   "metadata": {},
   "source": [
    "(b) Visualize the Canberra distance analogous to (a)."
   ]
  },
  {
   "cell_type": "code",
   "execution_count": 15,
   "metadata": {},
   "outputs": [
    {
     "data": {
      "image/png": "[encoded data removed]",
      "text/plain": [
       "<Figure size 432x288 with 1 Axes>"
      ]
     },
     "metadata": {
      "needs_background": "light"
     },
     "output_type": "display_data"
    }
   ],
   "source": [
    "# TODO\n",
    "\n",
    "# grid\n",
    "q = np.array([[1,2]])\n",
    "#print(q)\n",
    "\n",
    "x = np.linspace(-3, 6, 100)\n",
    "y = np.linspace(-3 ,6, 100)\n",
    "\n",
    "# https://stackoverflow.com/questions/35418012/how-to-create-matrix-of-points-by-x-y-coordinate-in-python\n",
    "X, Y = np.meshgrid(x, y)\n",
    "\n",
    "X = X.reshape((np.prod(X.shape),))\n",
    "Y = Y.reshape((np.prod(Y.shape),))\n",
    "\n",
    "grid = np.array([X,Y]).T\n",
    "\n",
    "#print(grid)\n",
    "#print(X)\n",
    "#print(Y)\n",
    "\n",
    "dist_eu = DiMe.get_metric('canberra')\n",
    "\n",
    "# numpy array: matrix of eucledian distances \n",
    "all_dist_eu = np.array(dist_eu.pairwise(grid, q))\n",
    "\n",
    "X, Y = np.meshgrid(x, y)\n",
    "\n",
    "all_dist_eu = np.reshape(all_dist_eu, X.shape)\n",
    "\n",
    "#print(X)\n",
    "#print(Y)\n",
    "#print(all_dist_eu)\n",
    "\n",
    "\n",
    "htest = plt.contour(X, Y, all_dist_eu)"
   ]
  },
  {
   "cell_type": "markdown",
   "metadata": {},
   "source": [
    "(c) Visualize the Clark distance analogous to (a)."
   ]
  },
  {
   "cell_type": "code",
   "execution_count": 16,
   "metadata": {},
   "outputs": [],
   "source": [
    "# TODO"
   ]
  },
  {
   "cell_type": "markdown",
   "metadata": {},
   "source": [
    "(d) Vary $q$ and $R$ towards \"interesting\" examples. What do you observe?"
   ]
  },
  {
   "cell_type": "code",
   "execution_count": 17,
   "metadata": {},
   "outputs": [],
   "source": [
    "# TODO"
   ]
  },
  {
   "cell_type": "markdown",
   "metadata": {},
   "source": [
    "Consider trying out additional distances."
   ]
  },
  {
   "cell_type": "code",
   "execution_count": 18,
   "metadata": {},
   "outputs": [],
   "source": [
    "# TODO"
   ]
  }
 ],
 "metadata": {
  "kernelspec": {
   "display_name": "Python 3",
   "language": "python",
   "name": "python3"
  },
  "language_info": {
   "codemirror_mode": {
    "name": "ipython",
    "version": 3
   },
   "file_extension": ".py",
   "mimetype": "text/x-python",
   "name": "python",
   "nbconvert_exporter": "python",
   "pygments_lexer": "ipython3",
   "version": "3.7.1"
  }
 },
 "nbformat": 4,
 "nbformat_minor": 1
}

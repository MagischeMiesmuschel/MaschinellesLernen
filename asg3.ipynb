{
 "cells": [
  {
   "cell_type": "markdown",
   "metadata": {},
   "source": [
    "# Nearest-Neighbor Classification"
   ]
  },
  {
   "cell_type": "code",
   "execution_count": 2,
   "metadata": {},
   "outputs": [],
   "source": [
    "import pandas as pd\n",
    "df = pd.DataFrame([\n",
    "    [  1 ,   7 ,  1 ,   1 ,  \"spo\" ],\n",
    "    [  2 ,  13 ,  0 ,   1 ,  \"spo\" ],\n",
    "    [  3 ,   8 ,  2 ,   1 ,  \"spo\" ],\n",
    "    [  4 ,   7 ,  2 ,   3 ,  \"spo\" ],\n",
    "    [  5 ,   2 ,  1 ,   0 ,  \"sci\" ],\n",
    "    [  6 ,   1 ,  0 ,   1 ,  \"sci\" ],\n",
    "    [  7 ,   2 ,  2 ,   1 ,  \"sci\" ],\n",
    "    [  8 ,  12 ,  8 ,  11 ,  \"his\" ],\n",
    "    [  9 ,   7 ,  3 ,   5 ,  \"his\" ],\n",
    "    [ 10 ,   6 ,  5 ,   8 ,  \"his\" ]],\n",
    "    columns=[  \"DocId\" ,  \"$X_p$\" ,  \"$X_l$\" ,  \"$X_d$\" ,  \"$Y$\" ])"
   ]
  },
  {
   "cell_type": "markdown",
   "metadata": {},
   "source": [
    "You are given a collection of text documents that each have been classified according to their content into the three classes\n",
    "*sports*, *scientific*, and *historical*.\n",
    "\n",
    "Furthermore, three integer features $(X_p, X_l, X_d)$ have been obtained for each document,\n",
    "by detecting named entities and tagging each entity as *person*, *location*, or *date*,\n",
    "and counting the number of times each kind of entity occurs.\n",
    "\n",
    "For each training document, you know $X_p, X_l, X_d$ and the class label $Y = \\{\\text{spo}, \\text{sci}, \\text{his}\\}$:"
   ]
  },
  {
   "cell_type": "code",
   "execution_count": 3,
   "metadata": {
    "scrolled": true
   },
   "outputs": [
    {
     "data": {
      "text/html": [
       "<div>\n",
       "<style scoped>\n",
       "    .dataframe tbody tr th:only-of-type {\n",
       "        vertical-align: middle;\n",
       "    }\n",
       "\n",
       "    .dataframe tbody tr th {\n",
       "        vertical-align: top;\n",
       "    }\n",
       "\n",
       "    .dataframe thead th {\n",
       "        text-align: right;\n",
       "    }\n",
       "</style>\n",
       "<table border=\"1\" class=\"dataframe\">\n",
       "  <thead>\n",
       "    <tr style=\"text-align: right;\">\n",
       "      <th></th>\n",
       "      <th>DocId</th>\n",
       "      <th>$X_p$</th>\n",
       "      <th>$X_l$</th>\n",
       "      <th>$X_d$</th>\n",
       "      <th>$Y$</th>\n",
       "    </tr>\n",
       "  </thead>\n",
       "  <tbody>\n",
       "    <tr>\n",
       "      <th>0</th>\n",
       "      <td>1</td>\n",
       "      <td>7</td>\n",
       "      <td>1</td>\n",
       "      <td>1</td>\n",
       "      <td>spo</td>\n",
       "    </tr>\n",
       "    <tr>\n",
       "      <th>1</th>\n",
       "      <td>2</td>\n",
       "      <td>13</td>\n",
       "      <td>0</td>\n",
       "      <td>1</td>\n",
       "      <td>spo</td>\n",
       "    </tr>\n",
       "    <tr>\n",
       "      <th>2</th>\n",
       "      <td>3</td>\n",
       "      <td>8</td>\n",
       "      <td>2</td>\n",
       "      <td>1</td>\n",
       "      <td>spo</td>\n",
       "    </tr>\n",
       "    <tr>\n",
       "      <th>3</th>\n",
       "      <td>4</td>\n",
       "      <td>7</td>\n",
       "      <td>2</td>\n",
       "      <td>3</td>\n",
       "      <td>spo</td>\n",
       "    </tr>\n",
       "    <tr>\n",
       "      <th>4</th>\n",
       "      <td>5</td>\n",
       "      <td>2</td>\n",
       "      <td>1</td>\n",
       "      <td>0</td>\n",
       "      <td>sci</td>\n",
       "    </tr>\n",
       "    <tr>\n",
       "      <th>5</th>\n",
       "      <td>6</td>\n",
       "      <td>1</td>\n",
       "      <td>0</td>\n",
       "      <td>1</td>\n",
       "      <td>sci</td>\n",
       "    </tr>\n",
       "    <tr>\n",
       "      <th>6</th>\n",
       "      <td>7</td>\n",
       "      <td>2</td>\n",
       "      <td>2</td>\n",
       "      <td>1</td>\n",
       "      <td>sci</td>\n",
       "    </tr>\n",
       "    <tr>\n",
       "      <th>7</th>\n",
       "      <td>8</td>\n",
       "      <td>12</td>\n",
       "      <td>8</td>\n",
       "      <td>11</td>\n",
       "      <td>his</td>\n",
       "    </tr>\n",
       "    <tr>\n",
       "      <th>8</th>\n",
       "      <td>9</td>\n",
       "      <td>7</td>\n",
       "      <td>3</td>\n",
       "      <td>5</td>\n",
       "      <td>his</td>\n",
       "    </tr>\n",
       "    <tr>\n",
       "      <th>9</th>\n",
       "      <td>10</td>\n",
       "      <td>6</td>\n",
       "      <td>5</td>\n",
       "      <td>8</td>\n",
       "      <td>his</td>\n",
       "    </tr>\n",
       "  </tbody>\n",
       "</table>\n",
       "</div>"
      ],
      "text/plain": [
       "   DocId  $X_p$  $X_l$  $X_d$  $Y$\n",
       "0      1      7      1      1  spo\n",
       "1      2     13      0      1  spo\n",
       "2      3      8      2      1  spo\n",
       "3      4      7      2      3  spo\n",
       "4      5      2      1      0  sci\n",
       "5      6      1      0      1  sci\n",
       "6      7      2      2      1  sci\n",
       "7      8     12      8     11  his\n",
       "8      9      7      3      5  his\n",
       "9     10      6      5      8  his"
      ]
     },
     "execution_count": 3,
     "metadata": {},
     "output_type": "execute_result"
    }
   ],
   "source": [
    "df"
   ]
  },
  {
   "cell_type": "markdown",
   "metadata": {},
   "source": [
    "a) Compute the most likely class for $x=(5,4,3)$ using the $k$-nearest neighbor classifier with $k=3$ and show how you arrived at your solution.\n",
    "Use the Euclidean distance function and majority voting."
   ]
  },
  {
   "cell_type": "code",
   "execution_count": 7,
   "metadata": {},
   "outputs": [
    {
     "name": "stdout",
     "output_type": "stream",
     "text": [
      "[[ 7  1  1]\n",
      " [13  0  1]\n",
      " [ 8  2  1]\n",
      " [ 7  2  3]\n",
      " [ 2  1  0]\n",
      " [ 1  0  1]\n",
      " [ 2  2  1]\n",
      " [12  8 11]\n",
      " [ 7  3  5]\n",
      " [ 6  5  8]]\n",
      "['spo' 'spo' 'spo' 'spo' 'sci' 'sci' 'sci' 'his' 'his' 'his']\n",
      "spo\n",
      "prediction: ['spo']\n"
     ]
    }
   ],
   "source": [
    "from sklearn.neighbors import KNeighborsClassifier\n",
    "import numpy as np\n",
    "\n",
    "X = df.iloc[:,1:4].values\n",
    "y = df.iloc[:,4].values\n",
    "\n",
    "print(X)\n",
    "print(y)\n",
    "\n",
    "neigh = KNeighborsClassifier(n_neighbors=3)\n",
    "neigh.fit(X, y) \n",
    "\n",
    "print(\"prediction:\", neigh.predict([[5,4,3]]))"
   ]
  },
  {
   "cell_type": "markdown",
   "metadata": {},
   "source": [
    "b) Reduce the data set to the mean vectors of each class only.\n",
    "Compute the most likely class for $x$ using the nearest-neighbor classifier on this reduced data set\n",
    "and show how you arrived at your solution. Use the Euclidean distance function."
   ]
  },
  {
   "cell_type": "code",
   "execution_count": 4,
   "metadata": {},
   "outputs": [
    {
     "name": "stdout",
     "output_type": "stream",
     "text": [
      "prediction: ['sci']\n"
     ]
    }
   ],
   "source": [
    "#print(X[0:3])\n",
    "#print(np.mean(X[0:3], axis=0))\n",
    "newX = np.array([np.mean(X[0:3], axis=0), np.mean(X[4:6], axis=0), np.mean(X[7:9], axis=0)])\n",
    "newy = np.array([\"spo\", \"sci\", \"his\"])\n",
    "\n",
    "#print(newX)\n",
    "\n",
    "neigh = KNeighborsClassifier(n_neighbors=1)\n",
    "neigh.fit(newX, newy) \n",
    "\n",
    "print(\"prediction:\", neigh.predict([[5,4,3]]))"
   ]
  },
  {
   "cell_type": "markdown",
   "metadata": {},
   "source": [
    "Briefly discuss why the results of the $k$-nearest neighbor classifier could be different from\n",
    "the results obtained by using the nearest-mean classifier from the previous part."
   ]
  },
  {
   "cell_type": "markdown",
   "metadata": {},
   "source": [
    "Beim k-nearest neighbor ist der Testpunkt am nächsten zu zwei Punkten der Klasse \"spo\". Bei nearest-mean am nächsten zum Mittelwert von \"sci\"."
   ]
  },
  {
   "cell_type": "markdown",
   "metadata": {},
   "source": [
    "# Probabilistic Tic-Tac-Toe\n",
    "\n",
    "In this exercise we will train a probabilistic model to play Tic-Tac-Toe with us. To do so, download the UCI Tic-Tac-Toe dataset (https://archive.ics.uci.edu/ml/datasets/Tic-Tac-Toe+Endgame)."
   ]
  },
  {
   "cell_type": "markdown",
   "metadata": {},
   "source": [
    "a) Load the data and make yourself familiar with the data representation. Write code to display a field in your shell using ASCII characters. Write a function `chose_cell` that given the data and using Bayes' Theorem, returns the best cell (as number from 0 to 8) for the first turn of player $X$?"
   ]
  },
  {
   "cell_type": "code",
   "execution_count": 5,
   "metadata": {},
   "outputs": [
    {
     "name": "stdout",
     "output_type": "stream",
     "text": [
      "4\n",
      "b b b\n",
      "b x b\n",
      "b b b\n"
     ]
    }
   ],
   "source": [
    "import pandas as pd\n",
    "df = pd.read_csv('tic-tac-toe.data')\n",
    "\n",
    "def display_field(field):\n",
    "    # TODO\n",
    "    for i in [0,3,6]:\n",
    "        print(field[i],field[i+1],field[i+2])\n",
    "    \n",
    "\n",
    "def chose_cell(df):\n",
    "    # TODO\n",
    "    xPositive=np.zeros(9)\n",
    "    count_p=0\n",
    "    X = np.array(df.iloc[:,:-1].values)\n",
    "    Y = np.array(df.iloc[:,-1:].values)\n",
    "    for i in range(len(Y)):\n",
    "        if Y[i] == \"positive\":\n",
    "            count_p += 1\n",
    "            for j in range(len(X[0])):\n",
    "                if X[i][j] == 'x':\n",
    "                    xPositive[j] += 1\n",
    "    xPositive=[x/count_p for x in xPositive]\n",
    "    return(xPositive.index(max(xPositive)))\n",
    "\n",
    "print(chose_cell(df))\n",
    "test_field = ['b' for i in range(9)]\n",
    "test_field[chose_cell(df)] = 'x'\n",
    "display_field(test_field)"
   ]
  },
  {
   "cell_type": "markdown",
   "metadata": {},
   "source": [
    "b) Adapt your function `chose_cell` to also take the current board situation into consideration and returns the best *blank* cell (as number from 0 to 8) for any turn of player $X$. Use the interactive shell to play against it."
   ]
  },
  {
   "cell_type": "code",
   "execution_count": 6,
   "metadata": {},
   "outputs": [],
   "source": [
    "def chose_cell(field,df):\n",
    "    # TODO\n",
    "    xPositive=np.zeros(9)\n",
    "    xPositiveRet=[]\n",
    "    count_p=0\n",
    "    X = np.array(df.iloc[:,:-1].values)\n",
    "    Y = np.array(df.iloc[:,-1:].values)\n",
    "    for i in range(len(Y)):\n",
    "        if Y[i] == \"positive\":\n",
    "            count_p += 1\n",
    "            for j in range(len(X[0])):\n",
    "                if X[i][j] == 'x':\n",
    "                    xPositive[j] += 1\n",
    "    xPositive=[x/count_p for x in xPositive]\n",
    "    ret=-1\n",
    "    while ret == -1:\n",
    "        if field[xPositive.index(max(xPositive))] != 'b':\n",
    "            xPositive[xPositive.index(max(xPositive))] = 0\n",
    "        else:\n",
    "            return(xPositive.index(max(xPositive)))\n",
    "    return(xPositive.index(max(xPositiveRet)))\n",
    "\n",
    "# Game functions\n",
    "game_field = []\n",
    "def init_game_field():\n",
    "    global game_field # Uses global variables instead of local\n",
    "    game_field = ['b' for i in range(9)]\n",
    "    make_ai_turn()\n",
    "\n",
    "def make_ai_turn():\n",
    "    global df, game_field\n",
    "    # TODO\n",
    "    game_field[chose_cell(game_field,df)] = 'x'\n",
    "    display_field(game_field)\n",
    "\n",
    "def make_human_turn(position):\n",
    "    global game_field\n",
    "    # TODO\n",
    "    game_field[position] = 'o'\n",
    "    display_field(game_field)"
   ]
  },
  {
   "cell_type": "code",
   "execution_count": 8,
   "metadata": {},
   "outputs": [
    {
     "name": "stdout",
     "output_type": "stream",
     "text": [
      "b b b\n",
      "b x b\n",
      "b b b\n",
      "welches Feld?4\n",
      "welches Feld?-1\n"
     ]
    }
   ],
   "source": [
    "# Play here!\n",
    "init_game_field()\n",
    "while 'b' in game_field:\n",
    "    pos = int(input(\"welches Feld?\"))\n",
    "    while game_field[pos] != 'b' and pos != -1:\n",
    "        pos = int(input(\"welches Feld?\"))\n",
    "    if pos == -1:\n",
    "        break\n",
    "    make_human_turn(pos)\n",
    "    make_ai_turn()"
   ]
  },
  {
   "cell_type": "markdown",
   "metadata": {},
   "source": [
    "c) Create a function `chose_cell_lookahead` that returns the best *blank* cell, for which winning probabilities of player $X$ are best after the player $O$'s turn using Bayes' Theorem. Do you expect to obtain different results? Test your theories by playing against both functions."
   ]
  },
  {
   "cell_type": "code",
   "execution_count": null,
   "metadata": {},
   "outputs": [],
   "source": [
    "def chose_cell_lookahead(field,df):\n",
    "    # TODO"
   ]
  },
  {
   "cell_type": "code",
   "execution_count": null,
   "metadata": {},
   "outputs": [],
   "source": [
    "# Play here!"
   ]
  },
  {
   "cell_type": "markdown",
   "metadata": {},
   "source": [
    "# Traffic Count imputation\n",
    "\n",
    "In this exercise we want to use the K Nearest-Neighbor algorithm for traffic prediction. In moodle you can find the file `luxembourg_counts.csv` which contains simulated data from the city of Luxembourg. Our task is to predict the average number of vehicles (counts) in a given region from the morning hours 7:00 to 11:00. To tackle this problem, Luxembourg has been split into multiple grid cells. Each row in `luxembourg_counts.csv` represents one grid cell (identified by its latitude and logitude coordinates) followed by its average vehicle count in the given time slice."
   ]
  },
  {
   "cell_type": "markdown",
   "metadata": {},
   "source": [
    "a) Load the data and plot a histogram of traffic counts. Compute a $20\\%$ test split, which will be used to judge the algorithms afterwards."
   ]
  },
  {
   "cell_type": "code",
   "execution_count": 46,
   "metadata": {},
   "outputs": [
    {
     "name": "stdout",
     "output_type": "stream",
     "text": [
      "8.381795996053057\n"
     ]
    },
    {
     "data": {
      "image/png": "[encoded data removed]",
      "text/plain": [
       "<Figure size 432x288 with 1 Axes>"
      ]
     },
     "metadata": {
      "needs_background": "light"
     },
     "output_type": "display_data"
    }
   ],
   "source": [
    "import pandas as pd\n",
    "import matplotlib.pyplot as plt\n",
    "df = pd.read_csv('luxembourg_counts.csv')\n",
    "\n",
    "# TODO\n",
    "\n",
    "X = df.iloc[:,1:-1].values\n",
    "Y = df.iloc[:,-1].values\n",
    "\n",
    "print(np.mean(df.iloc[:,-1].values))\n",
    "plt.hist(df.iloc[:,-1].values,bins=100)\n",
    "plt.grid()\n",
    "plt.show()\n",
    "\n",
    "ausgleich = 0\n",
    "if 0.8*len(df)%1 != 0:\n",
    "    ausgleich = 1\n",
    "split_true = np.ones(int(0.8*len(df))+ausgleich)\n",
    "split_false = np.zeros(int(0.2*len(df)))\n",
    "mask = split_true\n",
    "mask = np.append(mask,split_false)\n",
    "np.random.shuffle(mask)\n",
    "\n",
    "XTrain = X[mask == True]\n",
    "XTest = X[mask == False]\n",
    "YTrain = X[mask == True]\n",
    "YTest = X[mask == False]"
   ]
  },
  {
   "cell_type": "markdown",
   "metadata": {},
   "source": [
    "b) Implement the Mean-Squared-Error function:\n",
    "$$\n",
    "MSE = \\frac{1}{N_{Test}} \\sum_{(x,y)\\in D_{Test}} (f(x) - y)^2\n",
    "$$\n",
    "and a simple baseline model, which always predicts the mean\n",
    "$$\n",
    "f_{base}(x) = \\frac{1}{N_{Train}} \\sum_{(x,y)\\in D_{Train}} y\n",
    "$$\n",
    "Test its performance with a $10-$fold cross validation and the test set. \n",
    "\n",
    "*Note: The jupyter notebook file already contains the necessary template to integrate your own classifier into `sklearn`*"
   ]
  },
  {
   "cell_type": "code",
   "execution_count": null,
   "metadata": {},
   "outputs": [],
   "source": [
    "from sklearn.base import BaseEstimator, RegressorMixin\n",
    "from sklearn.utils.validation import check_X_y, check_array, check_is_fitted\n",
    "from sklearn.utils.multiclass import unique_labels\n",
    "\n",
    "class BaselineModel(BaseEstimator, RegressorMixin):\n",
    "    def __init__(self):\n",
    "        #We do not have any parameters\n",
    "        pass\n",
    "    \n",
    "    def fit(self, X, y):\n",
    "        # Check that X and y have correct shape\n",
    "        X, y = check_X_y(X, y)\n",
    "\n",
    "        # Store the classes seen during fit. Since we will do regression, this is not necessary\n",
    "        # self.classes_ = unique_labels(y)\n",
    "\n",
    "        self.X_ = X\n",
    "        self.y_ = y\n",
    "\n",
    "        # The actual classifier's fit method\n",
    "        # TODO\n",
    "\n",
    "        # Return the classifier\n",
    "        return self\n",
    "\n",
    "    def predict(self, X):\n",
    "        # Check is fit had been called\n",
    "        check_is_fitted(self, ['X_', 'y_'])\n",
    "\n",
    "        # Input validation\n",
    "        X = check_array(X)\n",
    "        \n",
    "        # actual predict method\n",
    "        # TODO\n",
    "        \n",
    "        return 0 # return prediction here"
   ]
  },
  {
   "cell_type": "code",
   "execution_count": null,
   "metadata": {},
   "outputs": [],
   "source": [
    "import numpy as np\n",
    "from sklearn.dummy import DummyRegressor\n",
    "from sklearn.neighbors import KNeighborsRegressor\n",
    "from sklearn.model_selection import GridSearchCV\n",
    "from sklearn.metrics import make_scorer\n",
    "from sklearn.model_selection import cross_val_score\n",
    "\n",
    "def mse(Y,YPredicted):\n",
    "    # TODO\n",
    "\n",
    "\n",
    "my_scorer = make_scorer(mse)\n",
    "\n",
    "xvalScores = []\n",
    "\n",
    "meanModel = BaselineModel();\n",
    "scores = cross_val_score(meanModel, XTrain, YTrain, cv = 10, scoring=my_scorer) \n",
    "score = np.mean(scores)\n",
    "\n",
    "meanModel = BaselineModel();\n",
    "meanModel.fit(XTrain,YTrain)\n",
    "print(\"MSE training = \", score)    \n",
    "print(\"MSE test = \", mse(YTest, meanModel.predict(XTest)))  "
   ]
  },
  {
   "cell_type": "markdown",
   "metadata": {},
   "source": [
    "c) Traffic counts have a large variance, which makes the results difficult to interpret. The Standardized Mean Squared Error\n",
    "$$\n",
    "SMSE = \\frac{1}{N_{Test}\\cdot var( D_{Test})} \\sum_{(x,y)\\in D_{Test}} (f(x) - y)^2\n",
    "$$\n",
    "standardized the MSE by also taking into account the variance $var( D_{Test})$ of the lables in the test data. Implement the SMSE and use it to rate the baseline model. What happens and why?"
   ]
  },
  {
   "cell_type": "code",
   "execution_count": null,
   "metadata": {},
   "outputs": [],
   "source": [
    "import numpy as np\n",
    "from sklearn.dummy import DummyRegressor\n",
    "from sklearn.neighbors import KNeighborsRegressor\n",
    "from sklearn.model_selection import GridSearchCV\n",
    "from sklearn.metrics import make_scorer\n",
    "from sklearn.model_selection import cross_val_score\n",
    "\n",
    "def smse(Y,YPred):\n",
    "    # TODO\n",
    "\n",
    "my_scorer = make_scorer(smse)\n",
    "\n",
    "xvalScores = []\n",
    "\n",
    "meanModel = BaselineModel();\n",
    "scores = cross_val_score(meanModel, XTrain, YTrain, cv = 10, scoring=my_scorer) \n",
    "score = np.mean(scores)\n",
    "\n",
    "meanModel = BaselineModel();\n",
    "meanModel.fit(XTrain,YTrain)\n",
    "print(\"MSE training = \", score)    \n",
    "print(\"MSE test = \", mse(YTest, meanModel.predict(XTest)))     "
   ]
  },
  {
   "cell_type": "markdown",
   "metadata": {},
   "source": [
    "d) Implement the K-Nearest-Neigbour algorithm and try different $K\\in\\{1,\\dots,20\\}$. What is the best configuration and what is its performance?"
   ]
  },
  {
   "cell_type": "code",
   "execution_count": null,
   "metadata": {},
   "outputs": [],
   "source": [
    "from sklearn.base import BaseEstimator, RegressorMixin\n",
    "from sklearn.utils.validation import check_X_y, check_array, check_is_fitted\n",
    "from sklearn.utils.multiclass import unique_labels\n",
    "\n",
    "class MyKNN(BaseEstimator, RegressorMixin):\n",
    "    def __init__(self, K):\n",
    "        self.K = K\n",
    "\n",
    "    def fit(self, X, y):\n",
    "        # Check that X and y have correct shape\n",
    "        X, y = check_X_y(X, y)\n",
    "\n",
    "        # Store the classes seen during fit. Since we will do regression, this is not necessary\n",
    "        #self.classes_ = unique_labels(y)\n",
    "\n",
    "        self.X_ = X\n",
    "        self.y_ = y\n",
    "\n",
    "        # The actual classifier's fit method\n",
    "        # TODO\n",
    "\n",
    "        # Return the classifier\n",
    "        return self\n",
    "\n",
    "    def predict(self, X):\n",
    "        # Check is fit had been called\n",
    "        check_is_fitted(self, ['X_', 'y_'])\n",
    "\n",
    "        # Input validation\n",
    "        X = check_array(X)\n",
    "\n",
    "        # actual predict method\n",
    "        # TODO\n",
    "        return 0 # return prediction here"
   ]
  },
  {
   "cell_type": "code",
   "execution_count": null,
   "metadata": {},
   "outputs": [],
   "source": [
    "# TODO: Validating on parameters and chosing best."
   ]
  }
 ],
 "metadata": {
  "kernelspec": {
   "display_name": "Python 3",
   "language": "python",
   "name": "python3"
  },
  "language_info": {
   "codemirror_mode": {
    "name": "ipython",
    "version": 3
   },
   "file_extension": ".py",
   "mimetype": "text/x-python",
   "name": "python",
   "nbconvert_exporter": "python",
   "pygments_lexer": "ipython3",
   "version": "3.7.0"
  }
 },
 "nbformat": 4,
 "nbformat_minor": 2
}
